{
 "cells": [
  {
   "cell_type": "markdown",
   "metadata": {},
   "source": [
    "## Violating Local Realism"
   ]
  },
  {
   "cell_type": "markdown",
   "metadata": {},
   "source": [
    "## Section 1: The Bell Test Demo\n",
    "![](img/BellTest.png)"
   ]
  },
  {
   "cell_type": "markdown",
   "metadata": {},
   "source": [
    "Using Qiskit to calculate the CHSH inequality\n",
    "\n",
    "In this demo, we will use Qiskit to prove that we can violate local realism. We will make use of IBMs quantum computers in making our computations "
   ]
  },
  {
   "cell_type": "markdown",
   "metadata": {},
   "source": [
    "1. Import the needed Python libraries"
   ]
  },
  {
   "cell_type": "code",
   "execution_count": null,
   "metadata": {},
   "outputs": [],
   "source": [
    "import numpy as np  \n",
    "from math import pi"
   ]
  },
  {
   "cell_type": "markdown",
   "metadata": {},
   "source": [
    "2. Import the Qiskit libraries"
   ]
  },
  {
   "cell_type": "code",
   "execution_count": null,
   "metadata": {},
   "outputs": [],
   "source": [
    "import qiskit as q\n",
    "from qiskit import IBMQ, transpile\n",
    "from qiskit.providers.ibmq.managed import IBMQJobManager\n",
    "from qiskit.providers.ibmq import least_busy"
   ]
  },
  {
   "cell_type": "markdown",
   "metadata": {},
   "source": [
    "3. Add import to help track jobs on ibmq by adding widget to top left"
   ]
  },
  {
   "cell_type": "code",
   "execution_count": null,
   "metadata": {},
   "outputs": [],
   "source": [
    "import qiskit.tools.jupyter\n",
    "%qiskit_job_watcher"
   ]
  },
  {
   "cell_type": "markdown",
   "metadata": {},
   "source": [
    "4. Write helper method to return the counts for a specific measurement basis Q, R, S, or T.\n",
    "   One input of the helper method is the counts obtained from simulation for a measured basis, either Q, R, S, or T.\n",
    "   The output of the method is the statistical count for a measured state if it's present else the return value is 0"
   ]
  },
  {
   "cell_type": "code",
   "execution_count": null,
   "metadata": {},
   "outputs": [],
   "source": [
    "def check(counts,name):\n",
    "    # complete method"
   ]
  },
  {
   "cell_type": "markdown",
   "metadata": {},
   "source": [
    "5. Writing actual code to calculate the CHSH inequality on an IBM quantum computer.\n",
    "   \n",
    "  In this example, the following measurement basis angles have been chosen specifically for the CHSH inequality:\n",
    "  \n",
    "   \n",
    "   | Measurement |  Angle      |\n",
    "   |:-----------:|:-----------:|\n",
    "   | Q           |      0      |\n",
    "   | R           | -2 * theta  |\n",
    "   | S           |    -  theta |\n",
    "   | T           |  -3 * theta |\n",
    "    "
   ]
  },
  {
   "cell_type": "code",
   "execution_count": null,
   "metadata": {
    "scrolled": true
   },
   "outputs": [],
   "source": [
    "def construct_circuit(cor_name, theta):\n",
    "    # make the bell pair\n",
    "    circuit = q.QuantumCircuit(2, 2)\n",
    "    circuit.h(0)\n",
    "    circuit.cx(0,1)\n",
    "    # perform the correct bell angle measurement based on cor_name (pair selected) \n",
    "    # 0 -> Alice and 1 -> Bob\n",
    "    # Circuit.ry(theta, i) => rotation along y-axis by theta on qubit i\n",
    "    # write code for various cor_name cases i.e QS, RS, QT, and RT\n",
    "    \n",
    "    # measure the circuit    \n",
    "    \n",
    "    return circuit"
   ]
  },
  {
   "cell_type": "markdown",
   "metadata": {},
   "source": [
    "6. Setting up the IBM Quantum computers for upcoming simulations"
   ]
  },
  {
   "cell_type": "code",
   "execution_count": null,
   "metadata": {},
   "outputs": [],
   "source": [
    "provider = IBMQ.load_account() # load provider\n",
    "# select backend or device to run on\n",
    "backend = provider.get_backend('ibmq_qasm_simulator')\n",
    "#backend = least_busy(provider.backends(simulator=False))\n",
    "nshots = 1000 # set number of shots for simulation"
   ]
  },
  {
   "cell_type": "markdown",
   "metadata": {},
   "source": [
    "7. Write the code to run the pairings on actual quantum computer. \n",
    "   The code in next block is used to run the various jobs on the quantum computers "
   ]
  },
  {
   "cell_type": "code",
   "execution_count": null,
   "metadata": {},
   "outputs": [],
   "source": [
    "# Different pairs of measurements\n",
    "cor_name_list = [] # enter all the cor_names possibilities\n",
    "\n",
    "theta = pi/4\n",
    "E = {}\n",
    "circs = []\n",
    "\n",
    "# bundling up circuits so they run in parallel\n",
    "for cor_name in cor_name_list:\n",
    "    circs.append(construct_circuit(cor_name, theta))\n",
    "    \n",
    "# Need to transpile the circuits first\n",
    "circs = transpile(circs, backend=backend)\n",
    "\n",
    "# Use Job Manager to break the circuits into multiple jobs so the jobs can be submitted all at once\n",
    "# create the IBM Job Manager\n",
    "# run simulation and get results"
   ]
  },
  {
   "cell_type": "markdown",
   "metadata": {},
   "source": [
    "8. The code below actually calculates the CHSH inequality\n",
    "\n",
    "   For more details on the calculations used in the code below see https://en.wikipedia.org/wiki/CHSH_inequality\n",
    "\n",
    "   Also the main calculations used in code below are:\n",
    "   \n",
    "   According to local realism, the expected correlation is $ E(QS) + E(RS) + E(RT) - E(QT) ≤ 2$ but we prove that        it's violated.\n",
    "   \n",
    "   For each measurement pair from ${Q,R,S,T}$, the number of coincidences is recorded for each category in\n",
    "   ${\\displaystyle \\left\\{N_{11},N_{00},N_{10},N_{01}\\right\\}}$, where $N_{a,b} =$ the number of times Alice measuered    a and Bob measure b. \n",
    "   \n",
    "   The experimental estimate for ${\\displaystyle E}$ is then calculated as:\n",
    "   ${\\displaystyle E={\\frac {N_{11}-N_{10}-N_{01}+N_{00}}{N_{total}}}}$\n",
    "   which represents the average number of times the 2 measurements between Alice and Bob agree/disagree"
   ]
  },
  {
   "cell_type": "code",
   "execution_count": null,
   "metadata": {},
   "outputs": [],
   "source": [
    "for i, cor_name in enumerate(cor_name_list):\n",
    "    # runs to get statistical frequencies \n",
    "    counts = results.get_counts(i)\n",
    "    # Quantum correlations between Alice and Bob   \n",
    "    E[cor_name] = check(counts,**)/nshots\\\n",
    "        + check(counts,**)/nshots\\\n",
    "        - check(counts,**)/nshots\\\n",
    "        - check(counts,**)/nshots\n",
    "    \n",
    "S = E[] + E[] + E[] - E[]\n",
    "print(\"Calculated S value = \", S)\n",
    "print(\"Ideal S value = \", np.sqrt(2)*2)\n",
    "print(\"theta in rad = \", theta)"
   ]
  },
  {
   "cell_type": "markdown",
   "metadata": {},
   "source": [
    "## Section 2: Exercices"
   ]
  },
  {
   "cell_type": "markdown",
   "metadata": {},
   "source": [
    "(a) Generate all Bell pairs \n",
    "    ![](img/BellStates.png)"
   ]
  },
  {
   "cell_type": "markdown",
   "metadata": {},
   "source": [
    "(b) Does entanglement work for 3 qubits?"
   ]
  }
 ],
 "metadata": {
  "kernelspec": {
   "display_name": "Python 3",
   "language": "python",
   "name": "python3"
  },
  "language_info": {
   "codemirror_mode": {
    "name": "ipython",
    "version": 3
   },
   "file_extension": ".py",
   "mimetype": "text/x-python",
   "name": "python",
   "nbconvert_exporter": "python",
   "pygments_lexer": "ipython3",
   "version": "3.7.6"
  }
 },
 "nbformat": 4,
 "nbformat_minor": 4
}
