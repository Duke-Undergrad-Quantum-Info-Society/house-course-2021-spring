{
 "cells": [
  {
   "cell_type": "markdown",
   "id": "fundamental-asthma",
   "metadata": {},
   "source": [
    "### Grover's Algorithm - Demo\n",
    "\n",
    "As we saw in the lecture, in Grover's algorithm we are given on oracle, O, which takes $ O|w\\rangle = -|w\\rangle$, where $w$ is the \"winner\". We can then perform the following to obtain a high probability of measuring $w$:\n",
    "\n",
    "1. Prepare uniform superposition\n",
    "2. \n",
    "    * Apply oracle function (O)\n",
    "    * Apply diffusion operator (D)\n",
    "    * (Repeat $O(\\sqrt{N})$ times, where $N$ is the size of the search space)\n",
    "3. Measure\n",
    "\n",
    "Let's go through the code for the 3 qubit example given in lecture. Recall that we are saying the winner is \"111\"\n"
   ]
  },
  {
   "cell_type": "markdown",
   "id": "framed-secretary",
   "metadata": {},
   "source": [
    "Very briefly, let's see the runtime for a randomised classical algorithm"
   ]
  },
  {
   "cell_type": "code",
   "execution_count": null,
   "id": "earlier-shelf",
   "metadata": {},
   "outputs": [],
   "source": [
    "import random\n",
    "import numpy as np\n",
    "\n",
    "def oracle(y):\n",
    "    return y == '111'\n",
    "\n",
    "def classical_search(search_space):\n",
    "    x = ''\n",
    "    queries = 0\n",
    "    while not oracle(x):\n",
    "\n",
    "        x = random.choice(search_space)\n",
    "        search_space.remove(x)\n",
    "        queries += 1\n",
    "\n",
    "    #print(\"found\", x, \"after\", queries, \"queries\")\n",
    "    return queries\n",
    "\n",
    "qs = [classical_search(['000', '001', '010', '011', '100', '101', '110', '111']) for _ in range(100)]\n",
    "print(\"Average number of queries: \", np.mean(qs))"
   ]
  },
  {
   "cell_type": "markdown",
   "id": "skilled-typing",
   "metadata": {},
   "source": [
    "Now let's see the quantum circuit. We're going to a boolean oracle and then the phase kickback trick to make it change the phase of the input."
   ]
  },
  {
   "cell_type": "code",
   "execution_count": null,
   "id": "better-storage",
   "metadata": {},
   "outputs": [],
   "source": [
    "from qiskit import QuantumCircuit, QuantumRegister, ClassicalRegister\n",
    "from qiskit.circuit.library import ZGate\n",
    "\n",
    "n = 3\n",
    "\n",
    "qc = QuantumCircuit(QuantumRegister(n, 'main'), QuantumRegister(1, 'ancilla'), ClassicalRegister(3))\n",
    "\n",
    "##Step 0 - put ancilla qubit into |-> state\n",
    "qc._(3)\n",
    "qc._(3)\n",
    "qc.barrier()\n",
    "\n",
    "\n",
    "##Step 1 - prepare uniform superposition\n",
    "qc.h(range(n))\n",
    "\n",
    "qc.barrier()\n",
    "\n",
    "\n",
    "k = _ #since N = 2^3, we want ? iterations\n",
    "\n",
    "##Step 2 - apply G = DO k times \n",
    "for i in range(k):\n",
    "    \n",
    "    #apply oracle\n",
    "    qc.mct([0,1,2], 3) #mct stands for multi-controlled toffoli \n",
    "    \n",
    "    #apply diffusion (flip sign of |000>)\n",
    "    ccz = ZGate().control(2)\n",
    "\n",
    "    qc.?\n",
    "    \n",
    "    qc.barrier()\n",
    "    \n",
    "\n",
    "##Step 3 - Measure\n",
    "qc.measure(range(n), range(n))\n",
    "    \n",
    "qc.draw(output='mpl')"
   ]
  },
  {
   "cell_type": "markdown",
   "id": "adequate-constant",
   "metadata": {},
   "source": [
    "So let's see the (simulated) results!"
   ]
  },
  {
   "cell_type": "code",
   "execution_count": null,
   "id": "missing-colonial",
   "metadata": {},
   "outputs": [],
   "source": [
    "from qiskit import execute, BasicAer\n",
    "from qiskit.visualization import plot_histogram\n",
    "\n",
    "backend = BasicAer.get_backend('qasm_simulator')\n",
    "results = execute(qc, backend, shots=1000).result().get_counts()\n",
    "\n",
    "plot_histogram(results)"
   ]
  },
  {
   "cell_type": "markdown",
   "id": "democratic-credit",
   "metadata": {},
   "source": [
    "Pretty good!\n",
    "\n",
    "What about if we'd tried a different number of iterations?"
   ]
  },
  {
   "cell_type": "code",
   "execution_count": null,
   "id": "monetary-administration",
   "metadata": {},
   "outputs": [],
   "source": []
  },
  {
   "cell_type": "markdown",
   "id": "upset-expression",
   "metadata": {},
   "source": [
    "Its all very well finding 111 after we explictly told it to, but can Grover's do anything useful? \n",
    "\n",
    "The answer is yes!"
   ]
  },
  {
   "cell_type": "markdown",
   "id": "german-orleans",
   "metadata": {},
   "source": [
    "### 3 SAT\n",
    "\n",
    "In this part, we are going to solve a satisfiability (SAT) problem using Grover's algorithm. \n",
    "\n",
    "A SAT problem is a list of OR statements connected by ANDs. When there are at most 3 letters (\"literals\") OR'ed together, the problem is called 3SAT (which is know to be NP-Complete). \n",
    "\n",
    "The problem we'll look at involves whether or not 4 people (Alice, Bob, Charles and Daisy) are going to attend a party. The issue is that these 4 have some complicated relationships. Let a mean that Alice is attending, and so on. Then we can express their relationships like so:\n",
    "1. Charles and Daisy are hosting the party so at least one of them has to be there (c OR d)\n",
    "2. Alice has a crush on Bob, so will definitely go if he does (b => a, a OR !b)\n",
    "3. Charles would rather not third wheel, so will definitely go if Alice and Bob aren't both going (!a OR !b OR c)\n",
    "4. Daisy won't go if Alice does (a => !d, !a or !d)\n",
    "\n",
    "The key trick is the rule that you can rewrite $p => q$ to $q  \\lor  !p$\n",
    "\n",
    "3SAT problems are always rewritten in conjunctive normal form (OR statements being AND'ed together). In order to make it an oracle with qiskit, we have to write it in a special form call DIMACS CNF. To do that, we need to tell it how many variables we have and how many clauses we're using. We also need to number our variables so let a=1, b=2, c=3, d=4. Then we write equation on a different line ending with 0. This gives:\n",
    "\n",
    "    p cnf 3 4\n",
    "    3 4 0\n",
    "    1 -2 0\n",
    "    -1 -2 3 0\n",
    "    -1 -4 0 "
   ]
  },
  {
   "cell_type": "markdown",
   "id": "sixth-ideal",
   "metadata": {},
   "source": [
    "Ok so lets first see how to do this classically again. First well build the oracle function and then randomly sample it. We'll assume that it takes in the input as \"abcd\""
   ]
  },
  {
   "cell_type": "code",
   "execution_count": null,
   "id": "entire-millennium",
   "metadata": {},
   "outputs": [],
   "source": [
    "def classical_oracle(x):\n",
    "    a, b, c, d = x\n",
    "    \n",
    "    a = int(a)\n",
    "    b = int(b)\n",
    "    c = int(c)\n",
    "    d = int(d)\n",
    "    \n",
    "    #rule 1 - c OR d\n",
    "    #rule 2 - !b OR a\n",
    "    #rule 3 - !a or !b or c\n",
    "    #rule 4 - !a or !d\n",
    "    if  (c or d) and (not b or a) and (not a or not b or c) and (not a or not d):\n",
    "        return True\n",
    "    \n",
    "    return False\n",
    "\n",
    "def random_search(search_space):\n",
    "\n",
    "    x = '0000'\n",
    "    queries = 0\n",
    "    while not classical_oracle(x):\n",
    "        x = random.choice(search_space)\n",
    "        search_space.remove(x)\n",
    "        \n",
    "        queries += 1\n",
    "    \n",
    "    #print(\"Found solution with\", x)\n",
    "    return x, queries\n",
    "        \n",
    "s = ['0000', '0001', '0010', '0011', '0100', '0101', '0110', '0111','1000', '1001', '1010', '1011', '1100', '1101', '1110', '1111']\n",
    "random_search(s.copy())\n"
   ]
  },
  {
   "cell_type": "code",
   "execution_count": null,
   "id": "bearing-methodology",
   "metadata": {},
   "outputs": [],
   "source": [
    "#average number of queries to get 1 solutions\n",
    "qs = [random_search(s.copy())[1] for _ in range(100)]\n",
    "print(\"Average number of queries: \", np.mean(qs))"
   ]
  },
  {
   "cell_type": "code",
   "execution_count": null,
   "id": "bigger-dubai",
   "metadata": {},
   "outputs": [],
   "source": [
    "from qiskit.aqua.components.oracles import LogicalExpressionOracle\n",
    "input_3sat = \"\"\"\n",
    "p cnf 3 4\n",
    "3 4 0\n",
    "1 -2 0\n",
    "-1 -2 3 0\n",
    "-1 -4 0 \n",
    "\"\"\"\n",
    "oracle = LogicalExpressionOracle(___)\n"
   ]
  },
  {
   "cell_type": "markdown",
   "id": "dutch-requirement",
   "metadata": {},
   "source": [
    "This constructs a circuit with a 4 qubit variable register, a 4 qubit \"workspace\" register, some ancillas for mct's and a 1 qubit output register which carries the solution.\n",
    "\n",
    "We can see what is happening under the hood if we want, but remember that the point is that we really don't care..."
   ]
  },
  {
   "cell_type": "code",
   "execution_count": null,
   "id": "bottom-blackjack",
   "metadata": {},
   "outputs": [],
   "source": [
    "oracle.construct_circuit().draw(output='mpl')"
   ]
  },
  {
   "cell_type": "markdown",
   "id": "material-clark",
   "metadata": {},
   "source": [
    "We can then just use the qiskit Grover's module to splice build the oracle into a Grover's and all we have to do is choose the number of iterations.\n",
    "\n",
    "Since there are 4 variables, we know there are 2^4 = 16 possible assigments. However, we don't know the number of solutions (yet), so let's just try 1 iteration and see what happens."
   ]
  },
  {
   "cell_type": "code",
   "execution_count": null,
   "id": "copyrighted-steam",
   "metadata": {},
   "outputs": [],
   "source": [
    "from qiskit.aqua.algorithms import Grover\n",
    "\n",
    "grover = Grover(oracle, iterations=_)\n",
    "\n",
    "\n",
    "qc = grover.construct_circuit()\n",
    "\n",
    "\n",
    "qc.add_register(ClassicalRegister(4))\n",
    "qc.measure(range(4), range(4))\n",
    "\n",
    "qc.draw(output='mpl')\n"
   ]
  },
  {
   "cell_type": "code",
   "execution_count": null,
   "id": "seventh-bearing",
   "metadata": {},
   "outputs": [],
   "source": [
    "backend = BasicAer.get_backend('qasm_simulator')\n",
    "results = execute(qc.reverse_bits(), backend, shots=1000).result().get_counts()\n",
    "\n",
    "plot_histogram(results)"
   ]
  },
  {
   "cell_type": "markdown",
   "id": "fourth-adventure",
   "metadata": {},
   "source": [
    "This gives us 5 answers: \n",
    "1. 0001 - Daisy goes \n",
    "2. 0010 - Charles goes \n",
    "3. 0011 - Charles and Daisy both go\n",
    "4. 1010 - Alice and Charles go\n",
    "5. 1110 - Alice, Bob and Charles go\n",
    "\n",
    "Let's check these satisfy the rules (or just use our classical oracle)"
   ]
  },
  {
   "cell_type": "code",
   "execution_count": null,
   "id": "frozen-mapping",
   "metadata": {},
   "outputs": [],
   "source": [
    "solutions = ['___', '____', '____', '____', '____']\n",
    "for sol in solutions:\n",
    "    print(sol, classical_oracle(sol))"
   ]
  },
  {
   "cell_type": "code",
   "execution_count": null,
   "id": "south-development",
   "metadata": {},
   "outputs": [],
   "source": []
  }
 ],
 "metadata": {
  "kernelspec": {
   "display_name": "Python 3",
   "language": "python",
   "name": "python3"
  },
  "language_info": {
   "codemirror_mode": {
    "name": "ipython",
    "version": 3
   },
   "file_extension": ".py",
   "mimetype": "text/x-python",
   "name": "python",
   "nbconvert_exporter": "python",
   "pygments_lexer": "ipython3",
   "version": "3.8.5"
  }
 },
 "nbformat": 4,
 "nbformat_minor": 5
}
