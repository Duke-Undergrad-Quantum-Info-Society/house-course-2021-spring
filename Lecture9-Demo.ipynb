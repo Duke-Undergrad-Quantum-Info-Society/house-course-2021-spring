{
 "cells": [
  {
   "cell_type": "markdown",
   "id": "judicial-sitting",
   "metadata": {},
   "source": [
    "## Simon's Algorithm\n",
    "\n",
    "In Simon's algorithm, we are given a black box function $f(x)$, and told that $f(x) = f(y) <=> x \\oplus y \\in \\{0, a\\}$ where $a$ is the special string we want to find. The goal is to find this $a$ in as few oracle queries as possible. \n",
    "\n",
    "Suppose we had the following truth table for $f(x)$ (working with 3 bits). \n",
    "\n",
    "| x   | f(x)|\n",
    "| ----| ----|\n",
    "| 000 | 101 |\n",
    "| 001 | 010 |\n",
    "| 010 | 000 |\n",
    "| 011 | 110 |\n",
    "| 100 | 000 |\n",
    "| 101 | 110 |\n",
    "| 110 | 101 |\n",
    "| 111 | 110 |\n",
    "\n",
    "Like last week, we're going to start by trying to solve this classically. What we'll do is pick random x values, see if f(x) is the same as any previously seen values and if so what the sum (mod 2) of they are."
   ]
  },
  {
   "cell_type": "code",
   "execution_count": 1,
   "id": "medical-librarian",
   "metadata": {},
   "outputs": [
    {
     "name": "stdout",
     "output_type": "stream",
     "text": [
      "110 000 110 {'010': '001', '000': '100', '101': '000'}\n",
      "found a = 110 in  4 queries\n"
     ]
    },
    {
     "data": {
      "text/plain": [
       "4"
      ]
     },
     "execution_count": 1,
     "metadata": {},
     "output_type": "execute_result"
    }
   ],
   "source": [
    "import random\n",
    "import numpy as np\n",
    "\n",
    "\n",
    "def bitwise_add(x, y):\n",
    "    z = ''\n",
    "    for i in range(3):\n",
    "        z  += str(int(x[i]) ^ int(y[i])) # ^ means bitwise add - this is probably not the cleanest way of doing this\n",
    "    return z\n",
    "\n",
    "def classical_simon():\n",
    "    x_values = ['000', '001', '010', '011', '100', '101', '110', '111']\n",
    "    \n",
    "    f = {'000': '101', '001': '010', '010':'000', '011':'110', '100':'000', '101':'110', '110':'101', '111':'010'}\n",
    "    \n",
    "    f_values = {}\n",
    "    \n",
    "    queries = 0\n",
    "    \n",
    "    while len(x_values) > 0:\n",
    "        x = random.choice(x_values)\n",
    "        x_values.remove(x)\n",
    "        \n",
    "        y = f[x]\n",
    "        queries += 1\n",
    "        \n",
    "        if y in f_values:\n",
    "            if bitwise_add(x, f_values[y]) == '000':\n",
    "                pass\n",
    "            else:\n",
    "                print(x, f_values[y], bitwise_add(x, f_values[y]), f_values)\n",
    "                print(\"found a =\", bitwise_add(x, f_values[y]), \"in \", queries, \"queries\")\n",
    "                return queries\n",
    "        else:\n",
    "            f_values[y] = x\n",
    "\n",
    "\n",
    "\n",
    "classical_simon()            \n",
    "#print(\"\\n\\nmean queries = \", np.mean([classical_simon() for _ in range(50)]))\n",
    "        "
   ]
  },
  {
   "cell_type": "markdown",
   "id": "provincial-keyboard",
   "metadata": {},
   "source": [
    "Meanwhile, recall the quantum algorithm works as follows:\n",
    "- Take 2 registers of size n\n",
    "- Apply hadamards on the first register\n",
    "- Apply $U_f$ which applies f(x) to the first register and stores the result in the second register\n",
    "- Measure the second register\n",
    "- Apply hadamards on the first register\n",
    "- Measure the first register\n",
    "\n",
    "The first thing we need to do is turn the function $f(x)$ into a gate. Let me tell you that you'll get the following circuit:"
   ]
  },
  {
   "cell_type": "code",
   "execution_count": 2,
   "id": "reserved-plenty",
   "metadata": {},
   "outputs": [
    {
     "data": {
      "image/png": "[encoded data removed]",
      "text/plain": [
       "<Figure size 387.597x385.28 with 1 Axes>"
      ]
     },
     "execution_count": 2,
     "metadata": {},
     "output_type": "execute_result"
    }
   ],
   "source": [
    "from qiskit import QuantumCircuit\n",
    "oracle = QuantumCircuit(6, name=\"$U_f$\")\n",
    "for i in range(3):\n",
    "    oracle.cx(i, i+3)\n",
    "oracle.cx(1, 4)\n",
    "oracle.cx(1, 5)\n",
    "\n",
    "oracle.draw(output='mpl')"
   ]
  },
  {
   "cell_type": "markdown",
   "id": "willing-privilege",
   "metadata": {},
   "source": [
    "Next recall that the circuit for Simon's algorithm is the following:\n",
    "\n",
    "\n",
    "![](img/simons_algorithm.png)\n"
   ]
  },
  {
   "cell_type": "code",
   "execution_count": 3,
   "id": "automotive-singles",
   "metadata": {},
   "outputs": [
    {
     "data": {
      "image/png": "[encoded data removed]",
      "text/plain": [
       "<Figure size 508.143x505.68 with 1 Axes>"
      ]
     },
     "execution_count": 3,
     "metadata": {},
     "output_type": "execute_result"
    }
   ],
   "source": [
    "from qiskit import QuantumCircuit, QuantumRegister, ClassicalRegister\n",
    "\n",
    "n = 3\n",
    "\n",
    "qc = QuantumCircuit(QuantumRegister(3, 'a'), QuantumRegister(3, 'b'), ClassicalRegister(3), ClassicalRegister(3))\n",
    "\n",
    "\n",
    "## Step 1 - hadamards\n",
    "qc.h(range(n))\n",
    "\n",
    "## Step 2 - Apply oracle\n",
    "qc.append(oracle, range(2*n))\n",
    "\n",
    "## Step 3 - hadamards\n",
    "qc.h(range(n))\n",
    "\n",
    "\n",
    "# Step 4 - measure\n",
    "qc.barrier()\n",
    "qc.measure(range(n), range(n))\n",
    "#qc.measure(range(n,2*n), range(n, 2*n))\n",
    "\n",
    "qc.draw(output='mpl')\n"
   ]
  },
  {
   "cell_type": "code",
   "execution_count": 4,
   "id": "nasty-imperial",
   "metadata": {},
   "outputs": [
    {
     "name": "stdout",
     "output_type": "stream",
     "text": [
      "y =  {'111', '001', '000', '110'}\n"
     ]
    },
    {
     "data": {
      "image/png": "[encoded data removed]",
      "text/plain": [
       "<Figure size 504x360 with 1 Axes>"
      ]
     },
     "execution_count": 4,
     "metadata": {},
     "output_type": "execute_result"
    }
   ],
   "source": [
    "from qiskit import BasicAer, execute\n",
    "from qiskit.visualization import plot_histogram\n",
    "\n",
    "backend = BasicAer.get_backend(\"qasm_simulator\")\n",
    "results = execute(qc, backend, shots=1024).result().get_counts()\n",
    "\n",
    "print(\"y = \", set([k[-3:] for k in results.keys()]))\n",
    "plot_histogram(results)"
   ]
  },
  {
   "cell_type": "markdown",
   "id": "induced-volleyball",
   "metadata": {},
   "source": [
    "Suppose $a = \\begin{bmatrix} a_1 \\\\ a_2 \\\\ a_3 \\end{bmatrix}$\n",
    "\n",
    "Then we have the following equations:\n",
    "\n",
    "- $\\begin{bmatrix} 0 \\\\ 0 \\\\ 0 \\end{bmatrix} \\cdot \\begin{bmatrix} a_1 \\\\ a_2 \\\\ a_3 \\end{bmatrix} = \\begin{bmatrix} 0 \\\\ 0 \\\\ 0 \\end{bmatrix}$\n",
    "\n",
    "\n",
    "\n",
    "- $\\begin{bmatrix} 0 \\\\ 0 \\\\ 1 \\end{bmatrix} \\cdot \\begin{bmatrix} a_1 \\\\ a_2 \\\\ a_3 \\end{bmatrix} = \\begin{bmatrix} 0 \\\\ 0 \\\\ 0 \\end{bmatrix}$\n",
    "\n",
    "\n",
    "\n",
    "- $\\begin{bmatrix} 1 \\\\ 1 \\\\ 0 \\end{bmatrix} \\cdot \\begin{bmatrix} a_1 \\\\ a_2 \\\\ a_3 \\end{bmatrix} = \\begin{bmatrix} 0 \\\\ 0 \\\\ 0 \\end{bmatrix}$\n",
    "\n",
    "\n",
    "\n",
    "- $\\begin{bmatrix} 1 \\\\ 1 \\\\ 1 \\end{bmatrix} \\cdot \\begin{bmatrix} a_1 \\\\ a_2 \\\\ a_3 \\end{bmatrix} = \\begin{bmatrix} 0 \\\\ 0 \\\\ 0 \\end{bmatrix}$\n",
    "\n",
    "\n",
    "From this we can see that a = $110$ satisfies all 4 equations. Very nice!"
   ]
  },
  {
   "cell_type": "markdown",
   "id": "adjusted-lyric",
   "metadata": {},
   "source": [
    "## Quantum Fourier Transform (QFT)\n",
    "\n",
    "Next, we'll consider the qft and how to implement it in qiskit.\n",
    "\n",
    "Recall the circuit:\n",
    "\n",
    "![](img/qft-circuit2.png)\n",
    "\n",
    "To build this in qiskit, we can just cheat and use the circuit library!"
   ]
  },
  {
   "cell_type": "code",
   "execution_count": 5,
   "id": "social-oxygen",
   "metadata": {},
   "outputs": [
    {
     "data": {
      "image/png": "[encoded data removed]",
      "text/plain": [
       "<Figure size 507.997x204.68 with 1 Axes>"
      ]
     },
     "execution_count": 5,
     "metadata": {},
     "output_type": "execute_result"
    }
   ],
   "source": [
    "from qiskit.circuit.library import QFT\n",
    "\n",
    "qc = QFT(3) # just give the number of qubits.\n",
    "qc.draw(output='mpl')"
   ]
  },
  {
   "cell_type": "markdown",
   "id": "minor-disclosure",
   "metadata": {},
   "source": [
    "Note that the gate being used is $P(\\lambda) = \\begin{bmatrix} 1 & 0\\\\ 1 & e^{i\\lambda} \\end{bmatrix}$\n",
    "\n",
    "(https://qiskit.org/documentation/stubs/qiskit.circuit.library.PhaseGate.html)\n",
    "\n",
    "Next let's see what these states look like for different inputs"
   ]
  },
  {
   "cell_type": "markdown",
   "id": "appointed-oxygen",
   "metadata": {},
   "source": [
    "Here's a helper function to perform qft on a custom state:"
   ]
  },
  {
   "cell_type": "code",
   "execution_count": 6,
   "id": "introductory-success",
   "metadata": {},
   "outputs": [],
   "source": [
    "def prepare_input(x):\n",
    "    n = len(x)\n",
    "    qc = QuantumCircuit(n)\n",
    "    for i, y in enumerate(x):\n",
    "        if y == \"1\": qc.x(i)\n",
    "            \n",
    "    return qc\n",
    "\n",
    "def qft_input(x='000', n=3):\n",
    "    qc = QuantumCircuit(n)\n",
    "    \n",
    "    qc += prepare_input(x)\n",
    "    \n",
    "    qc.barrier()\n",
    "    \n",
    "    qc += QFT(n)\n",
    "    \n",
    "    return qc"
   ]
  },
  {
   "cell_type": "code",
   "execution_count": 7,
   "id": "characteristic-launch",
   "metadata": {},
   "outputs": [
    {
     "data": {
      "image/png": "[encoded data removed]",
      "text/plain": [
       "<Figure size 628.397x204.68 with 1 Axes>"
      ]
     },
     "execution_count": 7,
     "metadata": {},
     "output_type": "execute_result"
    }
   ],
   "source": [
    "from qiskit.quantum_info import Statevector\n",
    "from qiskit.visualization import plot_state_qsphere, plot_bloch_multivector\n",
    "qc = qft_input('101')\n",
    "qc.draw(output='mpl')"
   ]
  },
  {
   "cell_type": "markdown",
   "id": "objective-income",
   "metadata": {},
   "source": [
    "Here's a snazzy interactive widget which lets us plot $QFT|x\\rangle$ for any $x$ we like. In particular, it helps visualize the effect of these binary fractions. "
   ]
  },
  {
   "cell_type": "code",
   "execution_count": 8,
   "id": "smooth-south",
   "metadata": {},
   "outputs": [
    {
     "data": {
      "application/vnd.jupyter.widget-view+json": {
       "model_id": "98d353001a974323a97e5130a25c2ebd",
       "version_major": 2,
       "version_minor": 0
      },
      "text/plain": [
       "interactive(children=(IntSlider(value=0, description='x', max=7), Output()), _dom_classes=('widget-interact',)…"
      ]
     },
     "metadata": {},
     "output_type": "display_data"
    }
   ],
   "source": [
    "%matplotlib inline\n",
    "# %matplotlib widget #to make even more interactive (and more buggy)\n",
    "\n",
    "from ipywidgets import *\n",
    "from IPython.display import display\n",
    "\n",
    "import warnings\n",
    "warnings.filterwarnings(\"ignore\")\n",
    "\n",
    "n = 3\n",
    "\n",
    "def frac_sum(x):\n",
    "    s = 0\n",
    "    for i in range(len(x)):\n",
    "        s += int(x[i])/2**(i+1)\n",
    "    return s\n",
    "\n",
    "def update(x=0):\n",
    "    y = format(x, '03b') #Turns the string to binary\n",
    "    print(\"x =\", x, \"\\t=> j1j2j3 =\", y)\n",
    "    s = \"j1j2j3\"\n",
    "    for i in range(n)[::-1]:\n",
    "        print(\"0.\" + s[2*i:], \"=\", frac_sum(y[i:]), end=\",\\t\") #Prints all the binary fractions for q_0, then q_1, ...\n",
    "    qc = prepare_input(y)\n",
    "    state1 = Statevector.from_instruction(qc)  \n",
    "    \n",
    "    qc = qft_input(y)\n",
    "    state2 = Statevector.from_instruction(qc)\n",
    "    \n",
    "    display(plot_bloch_multivector(state1), plot_bloch_multivector(state2)) #plots the input state and then qft state below\n",
    "    \n",
    "\n",
    "\n",
    "interact(update, x= widgets.IntSlider(value=0, min=0, max=2**n - 1, step=1));"
   ]
  },
  {
   "cell_type": "code",
   "execution_count": null,
   "id": "violent-roots",
   "metadata": {},
   "outputs": [],
   "source": []
  }
 ],
 "metadata": {
  "kernelspec": {
   "display_name": "Python 3",
   "language": "python",
   "name": "python3"
  },
  "language_info": {
   "codemirror_mode": {
    "name": "ipython",
    "version": 3
   },
   "file_extension": ".py",
   "mimetype": "text/x-python",
   "name": "python",
   "nbconvert_exporter": "python",
   "pygments_lexer": "ipython3",
   "version": "3.8.5"
  }
 },
 "nbformat": 4,
 "nbformat_minor": 5
}
