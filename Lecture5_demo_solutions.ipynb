{
 "cells": [
  {
   "cell_type": "markdown",
   "metadata": {},
   "source": [
    "## Violating Local Realism"
   ]
  },
  {
   "cell_type": "markdown",
   "metadata": {},
   "source": [
    "Using Qiskit to calculate the CHSH inequality\n",
    "\n",
    "In this demo, we will use Qiskit to prove that we can violate local realism. We will make use of IBMs quantum computers in making our computations "
   ]
  },
  {
   "cell_type": "markdown",
   "metadata": {},
   "source": [
    "1. Import the needed Python libraries"
   ]
  },
  {
   "cell_type": "code",
   "execution_count": 1,
   "metadata": {},
   "outputs": [],
   "source": [
    "import numpy as np  \n",
    "from matplotlib import pyplot as plt\n",
    "from matplotlib import style\n",
    "%matplotlib inline\n",
    "from math import pi"
   ]
  },
  {
   "cell_type": "markdown",
   "metadata": {},
   "source": [
    "2. Import the Qiskit libraries"
   ]
  },
  {
   "cell_type": "code",
   "execution_count": 2,
   "metadata": {},
   "outputs": [],
   "source": [
    "import qiskit as q\n",
    "from qiskit import IBMQ, transpile\n",
    "from qiskit.providers.ibmq.managed import IBMQJobManager\n",
    "from qiskit.providers.ibmq import least_busy\n",
    "from qiskit.tools.monitor import job_monitor\n",
    "from qiskit.visualization import plot_histogram\n",
    "from qiskit.tools.visualization import plot_bloch_multivector"
   ]
  },
  {
   "cell_type": "markdown",
   "metadata": {},
   "source": [
    "3. Add import to help track jobs on ibmq"
   ]
  },
  {
   "cell_type": "code",
   "execution_count": 3,
   "metadata": {},
   "outputs": [
    {
     "data": {
      "application/vnd.jupyter.widget-view+json": {
       "model_id": "69b48910fcb942ffb950df6ea214db90",
       "version_major": 2,
       "version_minor": 0
      },
      "text/plain": [
       "Accordion(children=(VBox(layout=Layout(max_width='710px', min_width='710px')),), layout=Layout(max_height='500…"
      ]
     },
     "metadata": {},
     "output_type": "display_data"
    },
    {
     "data": {
      "application/javascript": [
       "$('div.job_widget')\n",
       "        .detach()\n",
       "        .appendTo($('#header'))\n",
       "        .css({\n",
       "            'z-index': 999,\n",
       "             'position': 'fixed',\n",
       "            'box-shadow': '5px 5px 5px -3px black',\n",
       "            'opacity': 0.95,\n",
       "            'float': 'left,'\n",
       "        })\n",
       "        "
      ],
      "text/plain": [
       "<IPython.core.display.Javascript object>"
      ]
     },
     "metadata": {},
     "output_type": "display_data"
    }
   ],
   "source": [
    "import qiskit.tools.jupyter\n",
    "%qiskit_job_watcher"
   ]
  },
  {
   "cell_type": "markdown",
   "metadata": {},
   "source": [
    "4. Write helper method to return the counts for a specific measured state Q, R, S, or T.\n",
    "   The input of the helper method is the counts obtained from simulation and a measured state, either Q, R, S, or T\n",
    "   The output of the method is statistical count for a measured state if it's present else the return value is 0"
   ]
  },
  {
   "cell_type": "code",
   "execution_count": 4,
   "metadata": {},
   "outputs": [],
   "source": [
    "def check(counts,name):\n",
    "    try:\n",
    "        return counts[name]\n",
    "    except:\n",
    "        return 0"
   ]
  },
  {
   "cell_type": "markdown",
   "metadata": {},
   "source": [
    "5. Writing Actual code to calculate the CHSH inequality on an actual ibm quantum computer"
   ]
  },
  {
   "cell_type": "code",
   "execution_count": 5,
   "metadata": {},
   "outputs": [
    {
     "name": "stdout",
     "output_type": "stream",
     "text": [
      "running jobs ..\n",
      "S =  2.268\n",
      "theta in rad =  0.7853981633974483\n",
      "Ideal S value =  2.8284271247461903\n"
     ]
    }
   ],
   "source": [
    "def construct_circuit(cor_name, theta):\n",
    "    # make the bell paiir\n",
    "    circuit = q.QuantumCircuit(2, 2)\n",
    "    circuit.h(0)\n",
    "    circuit.cx(0,1)\n",
    "    # perform the correct bell angle measurement based on cor_name (pair selected) \n",
    "    # 0 -> Alice and 1 -> Bob\n",
    "    # Circuit.ry(theta, i) => rotation along y-axis by theta on qubit i\n",
    "    if cor_name == 'QS':\n",
    "        circuit.ry(-theta,1)          \n",
    "    elif cor_name =='RS': \n",
    "        circuit.ry(-2*theta,0)\n",
    "        circuit.ry(-theta,1)\n",
    "    elif cor_name == 'QT':\n",
    "        circuit.ry(-3*theta,1)\n",
    "    elif cor_name == 'RT':\n",
    "        circuit.ry(-2*theta,0)\n",
    "        circuit.ry(-3*theta,1)\n",
    "    # measure the circuit    \n",
    "    circuit.measure([0,1],[0,1])\n",
    "    return circuit\n",
    "\n",
    "provider = IBMQ.load_account()\n",
    "backend = least_busy(provider.backends(simulator=False))\n",
    "nshots = 1000\n",
    "\n",
    "# Different pairs of measurements\n",
    "cor_name_list = ['QS','RS','QT','RT']\n",
    "\n",
    "theta = pi/4\n",
    "E = {}\n",
    "circs = []\n",
    "\n",
    "# bundliing up circuits so they run in parallel\n",
    "for cor_name in cor_name_list:\n",
    "    circs.append(construct_circuit(cor_name, theta))\n",
    "    \n",
    "# Need to transpile the circuits first.\n",
    "circs = transpile(circs, backend=backend)\n",
    "\n",
    "# Use Job Manager to break the circuits into multiple jobs.\n",
    "job_manager = IBMQJobManager()\n",
    "print(\"running jobs ..\")\n",
    "results = job_manager.run(circs, backend=backend, shots=nshots).results()\n",
    "\n",
    "for i, cor_name in enumerate(cor_name_list):\n",
    "    # runs to get statistical frequencies \n",
    "    counts = results.get_counts(i)\n",
    "    # Quantum correlations between Alice and Bob   \n",
    "    E[cor_name] = check(counts,'11')/nshots\\\n",
    "        + check(counts,'00')/nshots\\\n",
    "        - check(counts,'01')/nshots\\\n",
    "        - check(counts,'10')/nshots\n",
    "    \n",
    "S = E['QS'] + E['RT'] + E['RS'] - E['QT']\n",
    "print(\"S = \", S)\n",
    "print(\"theta in rad = \", theta)\n",
    "print(\"Ideal S value = \", np.sqrt(2)*2)"
   ]
  },
  {
   "cell_type": "markdown",
   "metadata": {},
   "source": [
    "## 7. Exercices"
   ]
  },
  {
   "cell_type": "markdown",
   "metadata": {},
   "source": [
    "(a) Generate all Bell pairs\n"
   ]
  },
  {
   "cell_type": "code",
   "execution_count": 6,
   "metadata": {},
   "outputs": [],
   "source": [
    "# Importing everything\n",
    "from qiskit import *\n",
    "from qiskit.visualization import plot_histogram"
   ]
  },
  {
   "cell_type": "markdown",
   "metadata": {},
   "source": [
    "To create an entangled pair, we needed to do a H-gate followed by a CNOT. Let's create a function that takes a QuantumCircuit and entangles the qubits with indices a and b:"
   ]
  },
  {
   "cell_type": "code",
   "execution_count": 7,
   "metadata": {},
   "outputs": [],
   "source": [
    "def entangle(qc, a, b):\n",
    "    qc.h(a)\n",
    "    qc.cx(a,b)"
   ]
  },
  {
   "cell_type": "markdown",
   "metadata": {},
   "source": [
    "There are 4 possible inputs we can start with to generate different bell pais ie. |00>, |01>, |10>, |11>"
   ]
  },
  {
   "cell_type": "code",
   "execution_count": 8,
   "metadata": {},
   "outputs": [],
   "source": [
    "def encode_input(qc, qubit_1, qubit_2, msg):\n",
    "    if msg == \"00\":\n",
    "        pass    # To send 00 we do nothing\n",
    "    elif msg == \"10\":\n",
    "        qc.x(qubit_1) # To send 10 input\n",
    "    elif msg == \"01\":\n",
    "        qc.x(qubit_2) # To send 01 input\n",
    "    elif msg == \"11\":\n",
    "        qc.x(qubit_1) # To send 11 input\n",
    "        qc.x(qubit_2) # followed by an X-gate\n",
    "    else:\n",
    "        print(\"Invalid Message: Sending '00'\")"
   ]
  },
  {
   "cell_type": "markdown",
   "metadata": {},
   "source": [
    "We also need a way to ensure we measure using the same basis "
   ]
  },
  {
   "cell_type": "code",
   "execution_count": 9,
   "metadata": {},
   "outputs": [],
   "source": [
    "def decode(qc, a, b):\n",
    "    qc.cx(a,b)\n",
    "    qc.h(a)"
   ]
  },
  {
   "cell_type": "markdown",
   "metadata": {},
   "source": [
    "Finally, we can put this together "
   ]
  },
  {
   "cell_type": "code",
   "execution_count": 10,
   "metadata": {},
   "outputs": [
    {
     "name": "stdout",
     "output_type": "stream",
     "text": [
      "here\n",
      "here\n",
      "here\n",
      "here\n"
     ]
    }
   ],
   "source": [
    "# Create the quantum circuit with 2 qubits\n",
    "qc = QuantumCircuit(2)\n",
    "\n",
    "message_arr = [\"00\", \"01\", \"10\", \"11\"]\n",
    "\n",
    "for message in message_arr:\n",
    "    print(\"here\")\n",
    "    encode_input(qc, 0, 1, message)\n",
    "    entangle(qc, 0, 1)\n",
    "    decode(qc, 0, 1)\n",
    "    qc.measure_all()\n",
    "    qc.draw(output = \"mpl\")"
   ]
  },
  {
   "cell_type": "markdown",
   "metadata": {},
   "source": [
    "\n",
    "(b) Does entanglement work for 3 qubits?"
   ]
  },
  {
   "cell_type": "code",
   "execution_count": 11,
   "metadata": {},
   "outputs": [
    {
     "data": {
      "image/png": "[encoded data removed]",
      "text/plain": [
       "<Figure size 599.592x264.88 with 1 Axes>"
      ]
     },
     "execution_count": 11,
     "metadata": {},
     "output_type": "execute_result"
    }
   ],
   "source": [
    "# Create the quantum circuit with 3 qubits\n",
    "qc = QuantumCircuit(3)\n",
    "\n",
    "qc.h(0)\n",
    "qc.cx(0,1)\n",
    "qc.cx(1,2)\n",
    "qc.measure_all()\n",
    "qc.draw(output = \"mpl\")"
   ]
  }
 ],
 "metadata": {
  "kernelspec": {
   "display_name": "Python 3",
   "language": "python",
   "name": "python3"
  },
  "language_info": {
   "codemirror_mode": {
    "name": "ipython",
    "version": 3
   },
   "file_extension": ".py",
   "mimetype": "text/x-python",
   "name": "python",
   "nbconvert_exporter": "python",
   "pygments_lexer": "ipython3",
   "version": "3.7.6"
  }
 },
 "nbformat": 4,
 "nbformat_minor": 4
}
