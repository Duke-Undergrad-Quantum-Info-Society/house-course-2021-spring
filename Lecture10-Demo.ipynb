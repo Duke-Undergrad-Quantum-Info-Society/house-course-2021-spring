{
 "cells": [
  {
   "cell_type": "markdown",
   "metadata": {
    "tags": [
     "remove_cell"
    ]
   },
   "source": [
    "# Demo 1: Quantum Phase Estimation"
   ]
  },
  {
   "cell_type": "markdown",
   "metadata": {},
   "source": [
    "Quantum phase estimation is one of the most important subroutines in quantum computation. It serves as a central building block for many quantum algorithms. The objective of the algorithm is the following:\n",
    "\n",
    "Given a unitary operator $U$, the algorithm estimates $\\theta$ in $U\\vert\\psi \\rangle =e^{\\boldsymbol{2\\pi i} \\theta }|\\psi \\rangle$. Here $|\\psi\\rangle$ is an eigenvector and $e^{\\boldsymbol{2\\pi i}\\theta}$ is the corresponding eigenvalue. Since $U$ is unitary, all of its eigenvalues have a norm of 1."
   ]
  },
  {
   "cell_type": "markdown",
   "metadata": {},
   "source": [
    "### Review\n",
    "\n",
    "The circuit operates in the following steps:\n",
    "\n",
    "**Initial State**: $\\vert\\psi\\rangle$ is in the second qubit register. The first qubit register contains $n$ qubits on which we will store the value $2^n\\theta$: \n",
    "\n",
    "\n",
    "\n",
    "$$ \\psi_0 = \\lvert 0 \\rangle^{\\otimes n} \\lvert \\psi \\rangle$$\n",
    "\n",
    " \n",
    "\n",
    "**Step 1. Produce the Superposition**: Apply a $n$-bit Hadamard gate operation $H^{\\otimes n}$ on the first register: \n",
    "\n",
    "\n",
    "\n",
    "$$ \\psi_1 = {\\frac {1}{2^{\\frac {n}{2}}}}\\left(|0\\rangle +|1\\rangle \\right)^{\\otimes n} \\lvert \\psi \\rangle$$\n",
    "\n",
    "\n",
    "\n",
    "**Step 2. Apply Controlled Unitary Operations**: The controlled unitary $C-U$ applies the unitary operator $U$ on the target register only if its corresponding control bit is $|1\\rangle$. Since $U$ is a unitary operatory with eigenvector $|\\psi\\rangle$ such that $U|\\psi \\rangle =e^{\\boldsymbol{2\\pi i} \\theta }|\\psi \\rangle$, this means: \n",
    "\n",
    "\n",
    "\n",
    "$$U^{2^{j}}|\\psi \\rangle =e^{2\\pi i2^{j}\\theta }|\\psi \\rangle$$\n",
    "\n",
    "\n",
    "\n",
    "Applying all the $n$ controlled operations $C − U^{2^j}$ with $0\\leq j\\leq n-1$, and using the relation $|0\\rangle \\otimes |\\psi \\rangle +|1\\rangle \\otimes e^{2\\pi i\\theta }|\\psi \\rangle =\\left(|0\\rangle +e^{2\\pi i\\theta }|1\\rangle \\right)\\otimes |\\psi \\rangle$:\n",
    "\n",
    "\\begin{aligned}\n",
    "\\psi_{2} & =\\frac {1}{2^{\\frac {n}{2}}} \\left(|0\\rangle+{e^{\\boldsymbol{2\\pi i} \\theta 2^{n-1}}}|1\\rangle \\right) \\otimes \\cdots \\otimes \\left(|0\\rangle+{e^{\\boldsymbol{2\\pi i} \\theta 2^{1}}}\\vert1\\rangle \\right) \\otimes \\left(|0\\rangle+{e^{\\boldsymbol{2\\pi i} \\theta 2^{0}}}\\vert1\\rangle \\right) \\otimes |\\psi\\rangle\\\\\\\\\n",
    "& = \\frac{1}{2^{\\frac {n}{2}}}\\sum _{k=0}^{2^{n}-1}e^{\\boldsymbol{2\\pi i} \\theta k}|k\\rangle \\otimes \\vert\\psi\\rangle\n",
    "\\end{aligned}\n",
    "where $k$ denotes the integer representation of n-bit binary numbers. \n",
    "\n",
    "**Step 3. Apply Inverse Fourier Transform to the first register**: Notice that the above expression is exactly the result of applying a quantum Fourier transform. Recall that QFT maps an n-qubit input state $\\vert x\\rangle$ into an output as\n",
    "\n",
    "$$\n",
    "QFT\\vert x \\rangle = \\frac{1}{2^\\frac{n}{2}}\n",
    "\\left(\\vert0\\rangle + e^{\\frac{2\\pi i}{2}x} \\vert1\\rangle\\right) \n",
    "\\otimes\n",
    "\\left(\\vert0\\rangle + e^{\\frac{2\\pi i}{2^2}x} \\vert1\\rangle\\right) \n",
    "\\otimes  \n",
    "\\ldots\n",
    "\\otimes\n",
    "\\left(\\vert0\\rangle + e^{\\frac{2\\pi i}{2^{n-1}}x} \\vert1\\rangle\\right) \n",
    "\\otimes\n",
    "\\left(\\vert0\\rangle + e^{\\frac{2\\pi i}{2^n}x} \\vert1\\rangle\\right) \n",
    "$$\n",
    "\n",
    "Replacing $x$ by $2^n\\theta$ in the above expression gives exactly the expression derived in step 2 above. Therefore, to recover the state $\\vert2^n\\theta\\rangle$, apply an inverse Fourier transform on the auxiliary register. Doing so, we find\n",
    "\n",
    "$$\n",
    "\\vert\\psi_3\\rangle = \\frac {1}{2^{\\frac {n}{2}}}\\sum _{k=0}^{2^{n}-1}e^{\\boldsymbol{2\\pi i} \\theta k}|k\\rangle \\otimes | \\psi \\rangle \\xrightarrow{QFT_n^{-1}} \\frac {1}{2^n}\\sum _{x=0}^{2^{n}-1}\\sum _{k=0}^{2^{n}-1} e^{-\\frac{2\\pi i k}{2^n}(x - 2^n \\theta)} |x\\rangle \\otimes |\\psi\\rangle\n",
    "$$ \n",
    "\n",
    "**Step 4. Measure the first register**: \n",
    "The above expression peaks near $x = 2^n\\theta$. For the case when $2^n\\theta$ is an integer, measuring in the computational basis gives the phase in the auxiliary register with high probability: \n",
    "\n",
    "\n",
    "\n",
    "$$ |\\psi_4\\rangle = | 2^n \\theta \\rangle \\otimes | \\psi \\rangle$$\n",
    "\n",
    "\n",
    "\n",
    "For the case when $2^n\\theta$ is not an integer, it can be shown that the above expression still peaks near $x = 2^n\\theta$ with probability better than $4/\\pi^2 \\approx 40\\%$ (Read more in Nielsen & Chuang)."
   ]
  },
  {
   "cell_type": "markdown",
   "metadata": {},
   "source": [
    "## First Example: Estimate the phase of T-gate"
   ]
  },
  {
   "cell_type": "markdown",
   "metadata": {},
   "source": [
    "Remember that the $T$-gate adds a phase of $e^\\frac{i\\pi}{4}$ to the state $|1\\rangle$:\n",
    "\n",
    "$$ T|1\\rangle = \n",
    "\\begin{bmatrix}\n",
    "1 & 0\\\\\n",
    "0 & e^\\frac{i\\pi}{4}\\\\ \n",
    "\\end{bmatrix}\n",
    "\\begin{bmatrix}\n",
    "0\\\\\n",
    "1\\\\ \n",
    "\\end{bmatrix}\n",
    "= e^\\frac{i\\pi}{4}|1\\rangle $$\n",
    "\n",
    "Since Quantum phase estimation will give us $\\theta$ where:\n",
    "\n",
    "\n",
    "\n",
    "$$ T|1\\rangle = e^{2i\\pi\\theta}|1\\rangle $$\n",
    "\n",
    "\n",
    "\n",
    "We expect to find:\n",
    "\n",
    "\n",
    "\n",
    "$$\\theta = \\frac{1}{8}$$\n",
    "\n",
    "\n",
    "\n",
    "In this example we will use three qubits and obtain an _exact_ result (not an estimation!)"
   ]
  },
  {
   "cell_type": "markdown",
   "metadata": {},
   "source": [
    "### Creating the Circuit\n",
    "Let's first prepare our environment:"
   ]
  },
  {
   "cell_type": "code",
   "execution_count": 1,
   "metadata": {},
   "outputs": [],
   "source": [
    "#initialization\n",
    "import matplotlib.pyplot as plt\n",
    "import numpy as np\n",
    "import math\n",
    "\n",
    "# importing Qiskit\n",
    "from qiskit import IBMQ, Aer, transpile, assemble\n",
    "from qiskit import QuantumCircuit, ClassicalRegister, QuantumRegister\n",
    "\n",
    "# import basic plot tools\n",
    "from qiskit.visualization import plot_histogram"
   ]
  },
  {
   "cell_type": "markdown",
   "metadata": {},
   "source": [
    "Now, set up the quantum circuit. We will use four qubits -- qubits 0 to 2 as counting qubits, and qubit 3 as the eigenstate of the unitary operator ($T$). \n",
    "\n",
    "We initialize $\\vert\\psi\\rangle = \\vert1\\rangle$ by applying an $X$ gate:"
   ]
  },
  {
   "cell_type": "code",
   "execution_count": 6,
   "metadata": {},
   "outputs": [
    {
     "data": {
      "text/html": [
       "<pre style=\"word-wrap: normal;white-space: pre;background: #fff0;line-height: 1.1;font-family: &quot;Courier New&quot;,Courier,monospace\">          \n",
       "q_0: ─────\n",
       "          \n",
       "q_1: ─────\n",
       "          \n",
       "q_2: ─────\n",
       "     ┌───┐\n",
       "q_3: ┤ X ├\n",
       "     └───┘\n",
       "c: 3/═════\n",
       "          </pre>"
      ],
      "text/plain": [
       "          \n",
       "q_0: ─────\n",
       "          \n",
       "q_1: ─────\n",
       "          \n",
       "q_2: ─────\n",
       "     ┌───┐\n",
       "q_3: ┤ X ├\n",
       "     └───┘\n",
       "c: 3/═════\n",
       "          "
      ]
     },
     "execution_count": 6,
     "metadata": {},
     "output_type": "execute_result"
    }
   ],
   "source": [
    "qpe = QuantumCircuit(4, 3)\n",
    "qpe.x(3)\n",
    "qpe.draw()"
   ]
  },
  {
   "cell_type": "markdown",
   "metadata": {},
   "source": [
    "Next, we apply Hadamard gates to the counting qubits:"
   ]
  },
  {
   "cell_type": "code",
   "execution_count": 7,
   "metadata": {},
   "outputs": [
    {
     "data": {
      "text/html": [
       "<pre style=\"word-wrap: normal;white-space: pre;background: #fff0;line-height: 1.1;font-family: &quot;Courier New&quot;,Courier,monospace\">     ┌───┐\n",
       "q_0: ┤ H ├\n",
       "     ├───┤\n",
       "q_1: ┤ H ├\n",
       "     ├───┤\n",
       "q_2: ┤ H ├\n",
       "     ├───┤\n",
       "q_3: ┤ X ├\n",
       "     └───┘\n",
       "c: 3/═════\n",
       "          </pre>"
      ],
      "text/plain": [
       "     ┌───┐\n",
       "q_0: ┤ H ├\n",
       "     ├───┤\n",
       "q_1: ┤ H ├\n",
       "     ├───┤\n",
       "q_2: ┤ H ├\n",
       "     ├───┤\n",
       "q_3: ┤ X ├\n",
       "     └───┘\n",
       "c: 3/═════\n",
       "          "
      ]
     },
     "execution_count": 7,
     "metadata": {},
     "output_type": "execute_result"
    }
   ],
   "source": [
    "for qubit in range(3):\n",
    "    qpe.h(qubit)\n",
    "qpe.draw()"
   ]
  },
  {
   "cell_type": "markdown",
   "metadata": {},
   "source": [
    "Next we perform the controlled unitary operations. **Remember:** Qiskit orders its qubits the opposite way round to the image above."
   ]
  },
  {
   "cell_type": "code",
   "execution_count": 8,
   "metadata": {},
   "outputs": [
    {
     "data": {
      "text/html": [
       "<pre style=\"word-wrap: normal;white-space: pre;background: #fff0;line-height: 1.1;font-family: &quot;Courier New&quot;,Courier,monospace\">     ┌───┐                                                            »\n",
       "q_0: ┤ H ├────■───────────────────────────────────────────────────────»\n",
       "     ├───┤    │                                                       »\n",
       "q_1: ┤ H ├────┼─────────■─────────■───────────────────────────────────»\n",
       "     ├───┤    │         │         │                                   »\n",
       "q_2: ┤ H ├────┼─────────┼─────────┼─────────■─────────■─────────■─────»\n",
       "     ├───┤┌───┴────┐┌───┴────┐┌───┴────┐┌───┴────┐┌───┴────┐┌───┴────┐»\n",
       "q_3: ┤ X ├┤ P(π/4) ├┤ P(π/4) ├┤ P(π/4) ├┤ P(π/4) ├┤ P(π/4) ├┤ P(π/4) ├»\n",
       "     └───┘└────────┘└────────┘└────────┘└────────┘└────────┘└────────┘»\n",
       "c: 3/═════════════════════════════════════════════════════════════════»\n",
       "                                                                      »\n",
       "«               \n",
       "«q_0: ──────────\n",
       "«               \n",
       "«q_1: ──────────\n",
       "«               \n",
       "«q_2: ────■─────\n",
       "«     ┌───┴────┐\n",
       "«q_3: ┤ P(π/4) ├\n",
       "«     └────────┘\n",
       "«c: 3/══════════\n",
       "«               </pre>"
      ],
      "text/plain": [
       "     ┌───┐                                                            »\n",
       "q_0: ┤ H ├────■───────────────────────────────────────────────────────»\n",
       "     ├───┤    │                                                       »\n",
       "q_1: ┤ H ├────┼─────────■─────────■───────────────────────────────────»\n",
       "     ├───┤    │         │         │                                   »\n",
       "q_2: ┤ H ├────┼─────────┼─────────┼─────────■─────────■─────────■─────»\n",
       "     ├───┤┌───┴────┐┌───┴────┐┌───┴────┐┌───┴────┐┌───┴────┐┌───┴────┐»\n",
       "q_3: ┤ X ├┤ P(π/4) ├┤ P(π/4) ├┤ P(π/4) ├┤ P(π/4) ├┤ P(π/4) ├┤ P(π/4) ├»\n",
       "     └───┘└────────┘└────────┘└────────┘└────────┘└────────┘└────────┘»\n",
       "c: 3/═════════════════════════════════════════════════════════════════»\n",
       "                                                                      »\n",
       "«               \n",
       "«q_0: ──────────\n",
       "«               \n",
       "«q_1: ──────────\n",
       "«               \n",
       "«q_2: ────■─────\n",
       "«     ┌───┴────┐\n",
       "«q_3: ┤ P(π/4) ├\n",
       "«     └────────┘\n",
       "«c: 3/══════════\n",
       "«               "
      ]
     },
     "execution_count": 8,
     "metadata": {},
     "output_type": "execute_result"
    }
   ],
   "source": [
    "repetitions = 1\n",
    "for counting_qubit in range(3):\n",
    "    for i in range(repetitions):\n",
    "        qpe.cp(math.pi/4, counting_qubit, 3); # This is C-U\n",
    "    repetitions *= 2\n",
    "qpe.draw()"
   ]
  },
  {
   "cell_type": "markdown",
   "metadata": {},
   "source": [
    "We apply the inverse quantum Fourier transformation to convert the state of the counting register. Here we provide the code for $QFT^\\dagger$:"
   ]
  },
  {
   "cell_type": "code",
   "execution_count": 9,
   "metadata": {},
   "outputs": [],
   "source": [
    "def qft_dagger(qc, n):\n",
    "    \"\"\"n-qubit QFTdagger the first n qubits in circ\"\"\"\n",
    "    # Don't forget the Swaps!\n",
    "    for qubit in range(n//2):\n",
    "        qc.swap(qubit, n-qubit-1)\n",
    "    for j in range(n):\n",
    "        for m in range(j):\n",
    "            qc.cp(-math.pi/float(2**(j-m)), m, j)\n",
    "        qc.h(j)"
   ]
  },
  {
   "cell_type": "markdown",
   "metadata": {},
   "source": [
    "We then measure the counting register:"
   ]
  },
  {
   "cell_type": "code",
   "execution_count": 10,
   "metadata": {},
   "outputs": [],
   "source": [
    "qpe.barrier()\n",
    "# Apply inverse QFT\n",
    "qft_dagger(qpe, 3)\n",
    "# Measure\n",
    "qpe.barrier()\n",
    "for n in range(3):\n",
    "    qpe.measure(n,n)"
   ]
  },
  {
   "cell_type": "code",
   "execution_count": 11,
   "metadata": {
    "scrolled": false
   },
   "outputs": [
    {
     "data": {
      "text/html": [
       "<pre style=\"word-wrap: normal;white-space: pre;background: #fff0;line-height: 1.1;font-family: &quot;Courier New&quot;,Courier,monospace\">     ┌───┐                                                            »\n",
       "q_0: ┤ H ├────■───────────────────────────────────────────────────────»\n",
       "     ├───┤    │                                                       »\n",
       "q_1: ┤ H ├────┼─────────■─────────■───────────────────────────────────»\n",
       "     ├───┤    │         │         │                                   »\n",
       "q_2: ┤ H ├────┼─────────┼─────────┼─────────■─────────■─────────■─────»\n",
       "     ├───┤┌───┴────┐┌───┴────┐┌───┴────┐┌───┴────┐┌───┴────┐┌───┴────┐»\n",
       "q_3: ┤ X ├┤ P(π/4) ├┤ P(π/4) ├┤ P(π/4) ├┤ P(π/4) ├┤ P(π/4) ├┤ P(π/4) ├»\n",
       "     └───┘└────────┘└────────┘└────────┘└────────┘└────────┘└────────┘»\n",
       "c: 3/═════════════════════════════════════════════════════════════════»\n",
       "                                                                      »\n",
       "«                ░    ┌───┐                                            ░ ┌─┐   »\n",
       "«q_0: ───────────░──X─┤ H ├─────■───────────────■──────────────────────░─┤M├───»\n",
       "«                ░  │ └───┘┌────┴────┐┌───┐     │                      ░ └╥┘┌─┐»\n",
       "«q_1: ───────────░──┼──────┤ P(-π/2) ├┤ H ├─────┼──────────■───────────░──╫─┤M├»\n",
       "«                ░  │      └─────────┘└───┘┌────┴────┐┌────┴────┐┌───┐ ░  ║ └╥┘»\n",
       "«q_2: ────■──────░──X──────────────────────┤ P(-π/4) ├┤ P(-π/2) ├┤ H ├─░──╫──╫─»\n",
       "«     ┌───┴────┐ ░                         └─────────┘└─────────┘└───┘ ░  ║  ║ »\n",
       "«q_3: ┤ P(π/4) ├─░─────────────────────────────────────────────────────░──╫──╫─»\n",
       "«     └────────┘ ░                                                     ░  ║  ║ »\n",
       "«c: 3/════════════════════════════════════════════════════════════════════╩══╩═»\n",
       "«                                                                         0  1 »\n",
       "«        \n",
       "«q_0: ───\n",
       "«        \n",
       "«q_1: ───\n",
       "«     ┌─┐\n",
       "«q_2: ┤M├\n",
       "«     └╥┘\n",
       "«q_3: ─╫─\n",
       "«      ║ \n",
       "«c: 3/═╩═\n",
       "«      2 </pre>"
      ],
      "text/plain": [
       "     ┌───┐                                                            »\n",
       "q_0: ┤ H ├────■───────────────────────────────────────────────────────»\n",
       "     ├───┤    │                                                       »\n",
       "q_1: ┤ H ├────┼─────────■─────────■───────────────────────────────────»\n",
       "     ├───┤    │         │         │                                   »\n",
       "q_2: ┤ H ├────┼─────────┼─────────┼─────────■─────────■─────────■─────»\n",
       "     ├───┤┌───┴────┐┌───┴────┐┌───┴────┐┌───┴────┐┌───┴────┐┌───┴────┐»\n",
       "q_3: ┤ X ├┤ P(π/4) ├┤ P(π/4) ├┤ P(π/4) ├┤ P(π/4) ├┤ P(π/4) ├┤ P(π/4) ├»\n",
       "     └───┘└────────┘└────────┘└────────┘└────────┘└────────┘└────────┘»\n",
       "c: 3/═════════════════════════════════════════════════════════════════»\n",
       "                                                                      »\n",
       "«                ░    ┌───┐                                            ░ ┌─┐   »\n",
       "«q_0: ───────────░──X─┤ H ├─────■───────────────■──────────────────────░─┤M├───»\n",
       "«                ░  │ └───┘┌────┴────┐┌───┐     │                      ░ └╥┘┌─┐»\n",
       "«q_1: ───────────░──┼──────┤ P(-π/2) ├┤ H ├─────┼──────────■───────────░──╫─┤M├»\n",
       "«                ░  │      └─────────┘└───┘┌────┴────┐┌────┴────┐┌───┐ ░  ║ └╥┘»\n",
       "«q_2: ────■──────░──X──────────────────────┤ P(-π/4) ├┤ P(-π/2) ├┤ H ├─░──╫──╫─»\n",
       "«     ┌───┴────┐ ░                         └─────────┘└─────────┘└───┘ ░  ║  ║ »\n",
       "«q_3: ┤ P(π/4) ├─░─────────────────────────────────────────────────────░──╫──╫─»\n",
       "«     └────────┘ ░                                                     ░  ║  ║ »\n",
       "«c: 3/════════════════════════════════════════════════════════════════════╩══╩═»\n",
       "«                                                                         0  1 »\n",
       "«        \n",
       "«q_0: ───\n",
       "«        \n",
       "«q_1: ───\n",
       "«     ┌─┐\n",
       "«q_2: ┤M├\n",
       "«     └╥┘\n",
       "«q_3: ─╫─\n",
       "«      ║ \n",
       "«c: 3/═╩═\n",
       "«      2 "
      ]
     },
     "execution_count": 11,
     "metadata": {},
     "output_type": "execute_result"
    }
   ],
   "source": [
    "qpe.draw()"
   ]
  },
  {
   "cell_type": "markdown",
   "metadata": {},
   "source": [
    "### Results "
   ]
  },
  {
   "cell_type": "code",
   "execution_count": 12,
   "metadata": {},
   "outputs": [
    {
     "data": {
      "image/png": "[encoded data removed]",
      "text/plain": [
       "<Figure size 504x360 with 1 Axes>"
      ]
     },
     "execution_count": 12,
     "metadata": {},
     "output_type": "execute_result"
    }
   ],
   "source": [
    "qasm_sim = Aer.get_backend('qasm_simulator')\n",
    "shots = 1024\n",
    "t_qpe = transpile(qpe, qasm_sim)\n",
    "qobj = assemble(t_qpe, shots=shots)\n",
    "results = qasm_sim.run(qobj).result()\n",
    "answer = results.get_counts()\n",
    "\n",
    "plot_histogram(answer)"
   ]
  },
  {
   "cell_type": "markdown",
   "metadata": {},
   "source": [
    "We see we get one result (`001`) with certainty, which translates to the decimal: `1`. We now need to divide our result (`1`) by $2^n$ to get $\\theta$:\n",
    "\n",
    "\n",
    "\n",
    "$$ \\theta = \\frac{1}{2^3} = \\frac{1}{8} $$\n",
    "\n",
    "\n",
    "\n",
    "This is exactly the result we expected!"
   ]
  },
  {
   "cell_type": "markdown",
   "metadata": {},
   "source": [
    "## Another Example: Getting More Precision\n",
    "\n",
    "Instead of a $T$-gate, let’s use a $T'$ gate with $\\theta = \\frac{1}{3}$. We set up our circuit as with the last example:\n",
    "\n",
    "$$ T'|1\\rangle = \n",
    "\\begin{bmatrix}\n",
    "1 & 0\\\\\n",
    "0 & e^\\frac{2\\pi i}{3}\\\\ \n",
    "\\end{bmatrix}\n",
    "\\begin{bmatrix}\n",
    "0\\\\\n",
    "1\\\\ \n",
    "\\end{bmatrix}\n",
    "= e^\\frac{2\\pi i}{3}|1\\rangle $$"
   ]
  },
  {
   "cell_type": "code",
   "execution_count": 13,
   "metadata": {},
   "outputs": [
    {
     "data": {
      "text/html": [
       "<pre style=\"word-wrap: normal;white-space: pre;background: #fff0;line-height: 1.1;font-family: &quot;Courier New&quot;,Courier,monospace\">     ┌───┐                                                                  »\n",
       "q_0: ┤ H ├─────■────────────────────────────────────────────────────────────»\n",
       "     ├───┤     │                                                            »\n",
       "q_1: ┤ H ├─────┼──────────■──────────■──────────────────────────────────────»\n",
       "     ├───┤     │          │          │                                      »\n",
       "q_2: ┤ H ├─────┼──────────┼──────────┼──────────■──────────■──────────■─────»\n",
       "     ├───┤┌────┴────┐┌────┴────┐┌────┴────┐┌────┴────┐┌────┴────┐┌────┴────┐»\n",
       "q_3: ┤ X ├┤ P(2π/3) ├┤ P(2π/3) ├┤ P(2π/3) ├┤ P(2π/3) ├┤ P(2π/3) ├┤ P(2π/3) ├»\n",
       "     └───┘└─────────┘└─────────┘└─────────┘└─────────┘└─────────┘└─────────┘»\n",
       "c: 3/═══════════════════════════════════════════════════════════════════════»\n",
       "                                                                            »\n",
       "«                   ┌───┐                                      ┌─┐           \n",
       "«q_0: ────────────X─┤ H ├─────■───────────────■────────────────┤M├───────────\n",
       "«                 │ └───┘┌────┴────┐┌───┐     │                └╥┘     ┌─┐   \n",
       "«q_1: ────────────┼──────┤ P(-π/2) ├┤ H ├─────┼──────────■──────╫──────┤M├───\n",
       "«                 │      └─────────┘└───┘┌────┴────┐┌────┴────┐ ║ ┌───┐└╥┘┌─┐\n",
       "«q_2: ─────■──────X──────────────────────┤ P(-π/4) ├┤ P(-π/2) ├─╫─┤ H ├─╫─┤M├\n",
       "«     ┌────┴────┐                        └─────────┘└─────────┘ ║ └───┘ ║ └╥┘\n",
       "«q_3: ┤ P(2π/3) ├───────────────────────────────────────────────╫───────╫──╫─\n",
       "«     └─────────┘                                               ║       ║  ║ \n",
       "«c: 3/══════════════════════════════════════════════════════════╩═══════╩══╩═\n",
       "«                                                               0       1  2 </pre>"
      ],
      "text/plain": [
       "     ┌───┐                                                                  »\n",
       "q_0: ┤ H ├─────■────────────────────────────────────────────────────────────»\n",
       "     ├───┤     │                                                            »\n",
       "q_1: ┤ H ├─────┼──────────■──────────■──────────────────────────────────────»\n",
       "     ├───┤     │          │          │                                      »\n",
       "q_2: ┤ H ├─────┼──────────┼──────────┼──────────■──────────■──────────■─────»\n",
       "     ├───┤┌────┴────┐┌────┴────┐┌────┴────┐┌────┴────┐┌────┴────┐┌────┴────┐»\n",
       "q_3: ┤ X ├┤ P(2π/3) ├┤ P(2π/3) ├┤ P(2π/3) ├┤ P(2π/3) ├┤ P(2π/3) ├┤ P(2π/3) ├»\n",
       "     └───┘└─────────┘└─────────┘└─────────┘└─────────┘└─────────┘└─────────┘»\n",
       "c: 3/═══════════════════════════════════════════════════════════════════════»\n",
       "                                                                            »\n",
       "«                   ┌───┐                                      ┌─┐           \n",
       "«q_0: ────────────X─┤ H ├─────■───────────────■────────────────┤M├───────────\n",
       "«                 │ └───┘┌────┴────┐┌───┐     │                └╥┘     ┌─┐   \n",
       "«q_1: ────────────┼──────┤ P(-π/2) ├┤ H ├─────┼──────────■──────╫──────┤M├───\n",
       "«                 │      └─────────┘└───┘┌────┴────┐┌────┴────┐ ║ ┌───┐└╥┘┌─┐\n",
       "«q_2: ─────■──────X──────────────────────┤ P(-π/4) ├┤ P(-π/2) ├─╫─┤ H ├─╫─┤M├\n",
       "«     ┌────┴────┐                        └─────────┘└─────────┘ ║ └───┘ ║ └╥┘\n",
       "«q_3: ┤ P(2π/3) ├───────────────────────────────────────────────╫───────╫──╫─\n",
       "«     └─────────┘                                               ║       ║  ║ \n",
       "«c: 3/══════════════════════════════════════════════════════════╩═══════╩══╩═\n",
       "«                                                               0       1  2 "
      ]
     },
     "execution_count": 13,
     "metadata": {},
     "output_type": "execute_result"
    }
   ],
   "source": [
    "# Create and set up circuit\n",
    "qpe2 = QuantumCircuit(4, 3)\n",
    "\n",
    "# Apply H-Gates to counting qubits:\n",
    "for qubit in range(3):\n",
    "    qpe2.h(qubit)\n",
    "\n",
    "# Prepare our eigenstate |psi>:\n",
    "qpe2.x(3)\n",
    "\n",
    "# Do the controlled-U operations:\n",
    "angle = 2*math.pi/3\n",
    "repetitions = 1\n",
    "for counting_qubit in range(3):\n",
    "    for i in range(repetitions):\n",
    "        qpe2.cp(angle, counting_qubit, 3);\n",
    "    repetitions *= 2\n",
    "\n",
    "# Do the inverse QFT:\n",
    "qft_dagger(qpe2, 3)\n",
    "\n",
    "# Measure of course!\n",
    "for n in range(3):\n",
    "    qpe2.measure(n,n)\n",
    "\n",
    "qpe2.draw()"
   ]
  },
  {
   "cell_type": "code",
   "execution_count": 14,
   "metadata": {},
   "outputs": [
    {
     "data": {
      "image/png": "[encoded data removed]",
      "text/plain": [
       "<Figure size 504x360 with 1 Axes>"
      ]
     },
     "execution_count": 14,
     "metadata": {},
     "output_type": "execute_result"
    }
   ],
   "source": [
    "# Let's see the results!\n",
    "qasm_sim = Aer.get_backend('qasm_simulator')\n",
    "shots = 4096\n",
    "t_qpe2 = transpile(qpe2, qasm_sim)\n",
    "qobj = assemble(t_qpe2, shots=shots)\n",
    "results = qasm_sim.run(qobj).result()\n",
    "answer = results.get_counts()\n",
    "\n",
    "plot_histogram(answer)"
   ]
  },
  {
   "cell_type": "markdown",
   "metadata": {},
   "source": [
    "We are expecting the result $\\theta = 0.3333\\dots$, and we see our most likely results are `010(bin) = 2(dec)` and `011(bin) = 3(dec)`. These two results would tell us that $\\theta = 0.25$ (off by 25%) and $\\theta = 0.375$ (off by 13%) respectively. The true value of $\\theta$ lies between the values we can get from our counting bits, and this gives us uncertainty and imprecision.\n",
    "\n",
    "To get more precision we simply add more counting qubits. We are going to add two more counting qubits:"
   ]
  },
  {
   "cell_type": "code",
   "execution_count": 15,
   "metadata": {
    "scrolled": false
   },
   "outputs": [
    {
     "data": {
      "text/html": [
       "<pre style=\"word-wrap: normal;white-space: pre;background: #fff0;line-height: 1.1;font-family: &quot;Courier New&quot;,Courier,monospace\">     ┌───┐                                                                  »\n",
       "q_0: ┤ H ├─────■────────────────────────────────────────────────────────────»\n",
       "     ├───┤     │                                                            »\n",
       "q_1: ┤ H ├─────┼──────────■──────────■──────────────────────────────────────»\n",
       "     ├───┤     │          │          │                                      »\n",
       "q_2: ┤ H ├─────┼──────────┼──────────┼──────────■──────────■──────────■─────»\n",
       "     ├───┤     │          │          │          │          │          │     »\n",
       "q_3: ┤ H ├─────┼──────────┼──────────┼──────────┼──────────┼──────────┼─────»\n",
       "     ├───┤     │          │          │          │          │          │     »\n",
       "q_4: ┤ H ├─────┼──────────┼──────────┼──────────┼──────────┼──────────┼─────»\n",
       "     ├───┤┌────┴────┐┌────┴────┐┌────┴────┐┌────┴────┐┌────┴────┐┌────┴────┐»\n",
       "q_5: ┤ X ├┤ P(2π/3) ├┤ P(2π/3) ├┤ P(2π/3) ├┤ P(2π/3) ├┤ P(2π/3) ├┤ P(2π/3) ├»\n",
       "     └───┘└─────────┘└─────────┘└─────────┘└─────────┘└─────────┘└─────────┘»\n",
       "c: 5/═══════════════════════════════════════════════════════════════════════»\n",
       "                                                                            »\n",
       "«                                                                       »\n",
       "«q_0: ──────────────────────────────────────────────────────────────────»\n",
       "«                                                                       »\n",
       "«q_1: ──────────────────────────────────────────────────────────────────»\n",
       "«                                                                       »\n",
       "«q_2: ─────■────────────────────────────────────────────────────────────»\n",
       "«          │                                                            »\n",
       "«q_3: ─────┼──────────■──────────■──────────■──────────■──────────■─────»\n",
       "«          │          │          │          │          │          │     »\n",
       "«q_4: ─────┼──────────┼──────────┼──────────┼──────────┼──────────┼─────»\n",
       "«     ┌────┴────┐┌────┴────┐┌────┴────┐┌────┴────┐┌────┴────┐┌────┴────┐»\n",
       "«q_5: ┤ P(2π/3) ├┤ P(2π/3) ├┤ P(2π/3) ├┤ P(2π/3) ├┤ P(2π/3) ├┤ P(2π/3) ├»\n",
       "«     └─────────┘└─────────┘└─────────┘└─────────┘└─────────┘└─────────┘»\n",
       "«c: 5/══════════════════════════════════════════════════════════════════»\n",
       "«                                                                       »\n",
       "«                                                                       »\n",
       "«q_0: ──────────────────────────────────────────────────────────────────»\n",
       "«                                                                       »\n",
       "«q_1: ──────────────────────────────────────X───────────────────────────»\n",
       "«                                           │                           »\n",
       "«q_2: ──────────────────────────────────────┼───────────────────────────»\n",
       "«                                           │                           »\n",
       "«q_3: ─────■──────────■──────────■──────────X───────────────────────────»\n",
       "«          │          │          │                                      »\n",
       "«q_4: ─────┼──────────┼──────────┼──────────■──────────■──────────■─────»\n",
       "«     ┌────┴────┐┌────┴────┐┌────┴────┐┌────┴────┐┌────┴────┐┌────┴────┐»\n",
       "«q_5: ┤ P(2π/3) ├┤ P(2π/3) ├┤ P(2π/3) ├┤ P(2π/3) ├┤ P(2π/3) ├┤ P(2π/3) ├»\n",
       "«     └─────────┘└─────────┘└─────────┘└─────────┘└─────────┘└─────────┘»\n",
       "«c: 5/══════════════════════════════════════════════════════════════════»\n",
       "«                                                                       »\n",
       "«                                                                       »\n",
       "«q_0: ──────────────────────────────────────────────────────────────────»\n",
       "«                                                                       »\n",
       "«q_1: ──────────────────────────────────────────────────────────────────»\n",
       "«                                                                       »\n",
       "«q_2: ──────────────────────────────────────────────────────────────────»\n",
       "«                                                                       »\n",
       "«q_3: ──────────────────────────────────────────────────────────────────»\n",
       "«                                                                       »\n",
       "«q_4: ─────■──────────■──────────■──────────■──────────■──────────■─────»\n",
       "«     ┌────┴────┐┌────┴────┐┌────┴────┐┌────┴────┐┌────┴────┐┌────┴────┐»\n",
       "«q_5: ┤ P(2π/3) ├┤ P(2π/3) ├┤ P(2π/3) ├┤ P(2π/3) ├┤ P(2π/3) ├┤ P(2π/3) ├»\n",
       "«     └─────────┘└─────────┘└─────────┘└─────────┘└─────────┘└─────────┘»\n",
       "«c: 5/══════════════════════════════════════════════════════════════════»\n",
       "«                                                                       »\n",
       "«                                                                       »\n",
       "«q_0: ──────────────────────────────────────────────────────────────────»\n",
       "«                                                                       »\n",
       "«q_1: ──────────────────────────────────────────────────────────────────»\n",
       "«                                                                       »\n",
       "«q_2: ──────────────────────────────────────────────────────────────────»\n",
       "«                                                                       »\n",
       "«q_3: ──────────────────────────────────────────────────────────────────»\n",
       "«                                                                       »\n",
       "«q_4: ─────■──────────■──────────■──────────■──────────■──────────■─────»\n",
       "«     ┌────┴────┐┌────┴────┐┌────┴────┐┌────┴────┐┌────┴────┐┌────┴────┐»\n",
       "«q_5: ┤ P(2π/3) ├┤ P(2π/3) ├┤ P(2π/3) ├┤ P(2π/3) ├┤ P(2π/3) ├┤ P(2π/3) ├»\n",
       "«     └─────────┘└─────────┘└─────────┘└─────────┘└─────────┘└─────────┘»\n",
       "«c: 5/══════════════════════════════════════════════════════════════════»\n",
       "«                                                                       »\n",
       "«                   ┌───┐                                                      »\n",
       "«q_0: ────────────X─┤ H ├─────■───────────────■─────────────────────■──────────»\n",
       "«                 │ └───┘┌────┴────┐┌───┐     │                     │          »\n",
       "«q_1: ────────────┼──────┤ P(-π/2) ├┤ H ├─────┼──────────■──────────┼──────────»\n",
       "«                 │      └─────────┘└───┘┌────┴────┐┌────┴────┐     │     ┌───┐»\n",
       "«q_2: ────────────┼──────────────────────┤ P(-π/4) ├┤ P(-π/2) ├─────┼─────┤ H ├»\n",
       "«                 │                      └─────────┘└─────────┘┌────┴────┐└───┘»\n",
       "«q_3: ────────────┼────────────────────────────────────────────┤ P(-π/8) ├─────»\n",
       "«                 │                                            └─────────┘     »\n",
       "«q_4: ─────■──────X────────────────────────────────────────────────────────────»\n",
       "«     ┌────┴────┐                                                              »\n",
       "«q_5: ┤ P(2π/3) ├──────────────────────────────────────────────────────────────»\n",
       "«     └─────────┘                                                              »\n",
       "«c: 5/═════════════════════════════════════════════════════════════════════════»\n",
       "«                                                                              »\n",
       "«                                                                             »\n",
       "«q_0: ────────────────■───────────────────────────────────────────────────────»\n",
       "«                     │                                                       »\n",
       "«q_1: ─────■──────────┼──────────────────────■────────────────────────────────»\n",
       "«          │          │                      │                                »\n",
       "«q_2: ─────┼──────────┼───────────■──────────┼───────────────■────────────────»\n",
       "«     ┌────┴────┐     │      ┌────┴────┐     │     ┌───┐     │                »\n",
       "«q_3: ┤ P(-π/4) ├─────┼──────┤ P(-π/2) ├─────┼─────┤ H ├─────┼──────────■─────»\n",
       "«     └─────────┘┌────┴─────┐└─────────┘┌────┴────┐└───┘┌────┴────┐┌────┴────┐»\n",
       "«q_4: ───────────┤ P(-π/16) ├───────────┤ P(-π/8) ├─────┤ P(-π/4) ├┤ P(-π/2) ├»\n",
       "«                └──────────┘           └─────────┘     └─────────┘└─────────┘»\n",
       "«q_5: ────────────────────────────────────────────────────────────────────────»\n",
       "«                                                                             »\n",
       "«c: 5/════════════════════════════════════════════════════════════════════════»\n",
       "«                                                                             »\n",
       "«           ░ ┌─┐            \n",
       "«q_0: ──────░─┤M├────────────\n",
       "«           ░ └╥┘┌─┐         \n",
       "«q_1: ──────░──╫─┤M├─────────\n",
       "«           ░  ║ └╥┘┌─┐      \n",
       "«q_2: ──────░──╫──╫─┤M├──────\n",
       "«           ░  ║  ║ └╥┘┌─┐   \n",
       "«q_3: ──────░──╫──╫──╫─┤M├───\n",
       "«     ┌───┐ ░  ║  ║  ║ └╥┘┌─┐\n",
       "«q_4: ┤ H ├─░──╫──╫──╫──╫─┤M├\n",
       "«     └───┘ ░  ║  ║  ║  ║ └╥┘\n",
       "«q_5: ──────░──╫──╫──╫──╫──╫─\n",
       "«           ░  ║  ║  ║  ║  ║ \n",
       "«c: 5/═════════╩══╩══╩══╩══╩═\n",
       "«              0  1  2  3  4 </pre>"
      ],
      "text/plain": [
       "     ┌───┐                                                                  »\n",
       "q_0: ┤ H ├─────■────────────────────────────────────────────────────────────»\n",
       "     ├───┤     │                                                            »\n",
       "q_1: ┤ H ├─────┼──────────■──────────■──────────────────────────────────────»\n",
       "     ├───┤     │          │          │                                      »\n",
       "q_2: ┤ H ├─────┼──────────┼──────────┼──────────■──────────■──────────■─────»\n",
       "     ├───┤     │          │          │          │          │          │     »\n",
       "q_3: ┤ H ├─────┼──────────┼──────────┼──────────┼──────────┼──────────┼─────»\n",
       "     ├───┤     │          │          │          │          │          │     »\n",
       "q_4: ┤ H ├─────┼──────────┼──────────┼──────────┼──────────┼──────────┼─────»\n",
       "     ├───┤┌────┴────┐┌────┴────┐┌────┴────┐┌────┴────┐┌────┴────┐┌────┴────┐»\n",
       "q_5: ┤ X ├┤ P(2π/3) ├┤ P(2π/3) ├┤ P(2π/3) ├┤ P(2π/3) ├┤ P(2π/3) ├┤ P(2π/3) ├»\n",
       "     └───┘└─────────┘└─────────┘└─────────┘└─────────┘└─────────┘└─────────┘»\n",
       "c: 5/═══════════════════════════════════════════════════════════════════════»\n",
       "                                                                            »\n",
       "«                                                                       »\n",
       "«q_0: ──────────────────────────────────────────────────────────────────»\n",
       "«                                                                       »\n",
       "«q_1: ──────────────────────────────────────────────────────────────────»\n",
       "«                                                                       »\n",
       "«q_2: ─────■────────────────────────────────────────────────────────────»\n",
       "«          │                                                            »\n",
       "«q_3: ─────┼──────────■──────────■──────────■──────────■──────────■─────»\n",
       "«          │          │          │          │          │          │     »\n",
       "«q_4: ─────┼──────────┼──────────┼──────────┼──────────┼──────────┼─────»\n",
       "«     ┌────┴────┐┌────┴────┐┌────┴────┐┌────┴────┐┌────┴────┐┌────┴────┐»\n",
       "«q_5: ┤ P(2π/3) ├┤ P(2π/3) ├┤ P(2π/3) ├┤ P(2π/3) ├┤ P(2π/3) ├┤ P(2π/3) ├»\n",
       "«     └─────────┘└─────────┘└─────────┘└─────────┘└─────────┘└─────────┘»\n",
       "«c: 5/══════════════════════════════════════════════════════════════════»\n",
       "«                                                                       »\n",
       "«                                                                       »\n",
       "«q_0: ──────────────────────────────────────────────────────────────────»\n",
       "«                                                                       »\n",
       "«q_1: ──────────────────────────────────────X───────────────────────────»\n",
       "«                                           │                           »\n",
       "«q_2: ──────────────────────────────────────┼───────────────────────────»\n",
       "«                                           │                           »\n",
       "«q_3: ─────■──────────■──────────■──────────X───────────────────────────»\n",
       "«          │          │          │                                      »\n",
       "«q_4: ─────┼──────────┼──────────┼──────────■──────────■──────────■─────»\n",
       "«     ┌────┴────┐┌────┴────┐┌────┴────┐┌────┴────┐┌────┴────┐┌────┴────┐»\n",
       "«q_5: ┤ P(2π/3) ├┤ P(2π/3) ├┤ P(2π/3) ├┤ P(2π/3) ├┤ P(2π/3) ├┤ P(2π/3) ├»\n",
       "«     └─────────┘└─────────┘└─────────┘└─────────┘└─────────┘└─────────┘»\n",
       "«c: 5/══════════════════════════════════════════════════════════════════»\n",
       "«                                                                       »\n",
       "«                                                                       »\n",
       "«q_0: ──────────────────────────────────────────────────────────────────»\n",
       "«                                                                       »\n",
       "«q_1: ──────────────────────────────────────────────────────────────────»\n",
       "«                                                                       »\n",
       "«q_2: ──────────────────────────────────────────────────────────────────»\n",
       "«                                                                       »\n",
       "«q_3: ──────────────────────────────────────────────────────────────────»\n",
       "«                                                                       »\n",
       "«q_4: ─────■──────────■──────────■──────────■──────────■──────────■─────»\n",
       "«     ┌────┴────┐┌────┴────┐┌────┴────┐┌────┴────┐┌────┴────┐┌────┴────┐»\n",
       "«q_5: ┤ P(2π/3) ├┤ P(2π/3) ├┤ P(2π/3) ├┤ P(2π/3) ├┤ P(2π/3) ├┤ P(2π/3) ├»\n",
       "«     └─────────┘└─────────┘└─────────┘└─────────┘└─────────┘└─────────┘»\n",
       "«c: 5/══════════════════════════════════════════════════════════════════»\n",
       "«                                                                       »\n",
       "«                                                                       »\n",
       "«q_0: ──────────────────────────────────────────────────────────────────»\n",
       "«                                                                       »\n",
       "«q_1: ──────────────────────────────────────────────────────────────────»\n",
       "«                                                                       »\n",
       "«q_2: ──────────────────────────────────────────────────────────────────»\n",
       "«                                                                       »\n",
       "«q_3: ──────────────────────────────────────────────────────────────────»\n",
       "«                                                                       »\n",
       "«q_4: ─────■──────────■──────────■──────────■──────────■──────────■─────»\n",
       "«     ┌────┴────┐┌────┴────┐┌────┴────┐┌────┴────┐┌────┴────┐┌────┴────┐»\n",
       "«q_5: ┤ P(2π/3) ├┤ P(2π/3) ├┤ P(2π/3) ├┤ P(2π/3) ├┤ P(2π/3) ├┤ P(2π/3) ├»\n",
       "«     └─────────┘└─────────┘└─────────┘└─────────┘└─────────┘└─────────┘»\n",
       "«c: 5/══════════════════════════════════════════════════════════════════»\n",
       "«                                                                       »\n",
       "«                   ┌───┐                                                      »\n",
       "«q_0: ────────────X─┤ H ├─────■───────────────■─────────────────────■──────────»\n",
       "«                 │ └───┘┌────┴────┐┌───┐     │                     │          »\n",
       "«q_1: ────────────┼──────┤ P(-π/2) ├┤ H ├─────┼──────────■──────────┼──────────»\n",
       "«                 │      └─────────┘└───┘┌────┴────┐┌────┴────┐     │     ┌───┐»\n",
       "«q_2: ────────────┼──────────────────────┤ P(-π/4) ├┤ P(-π/2) ├─────┼─────┤ H ├»\n",
       "«                 │                      └─────────┘└─────────┘┌────┴────┐└───┘»\n",
       "«q_3: ────────────┼────────────────────────────────────────────┤ P(-π/8) ├─────»\n",
       "«                 │                                            └─────────┘     »\n",
       "«q_4: ─────■──────X────────────────────────────────────────────────────────────»\n",
       "«     ┌────┴────┐                                                              »\n",
       "«q_5: ┤ P(2π/3) ├──────────────────────────────────────────────────────────────»\n",
       "«     └─────────┘                                                              »\n",
       "«c: 5/═════════════════════════════════════════════════════════════════════════»\n",
       "«                                                                              »\n",
       "«                                                                             »\n",
       "«q_0: ────────────────■───────────────────────────────────────────────────────»\n",
       "«                     │                                                       »\n",
       "«q_1: ─────■──────────┼──────────────────────■────────────────────────────────»\n",
       "«          │          │                      │                                »\n",
       "«q_2: ─────┼──────────┼───────────■──────────┼───────────────■────────────────»\n",
       "«     ┌────┴────┐     │      ┌────┴────┐     │     ┌───┐     │                »\n",
       "«q_3: ┤ P(-π/4) ├─────┼──────┤ P(-π/2) ├─────┼─────┤ H ├─────┼──────────■─────»\n",
       "«     └─────────┘┌────┴─────┐└─────────┘┌────┴────┐└───┘┌────┴────┐┌────┴────┐»\n",
       "«q_4: ───────────┤ P(-π/16) ├───────────┤ P(-π/8) ├─────┤ P(-π/4) ├┤ P(-π/2) ├»\n",
       "«                └──────────┘           └─────────┘     └─────────┘└─────────┘»\n",
       "«q_5: ────────────────────────────────────────────────────────────────────────»\n",
       "«                                                                             »\n",
       "«c: 5/════════════════════════════════════════════════════════════════════════»\n",
       "«                                                                             »\n",
       "«           ░ ┌─┐            \n",
       "«q_0: ──────░─┤M├────────────\n",
       "«           ░ └╥┘┌─┐         \n",
       "«q_1: ──────░──╫─┤M├─────────\n",
       "«           ░  ║ └╥┘┌─┐      \n",
       "«q_2: ──────░──╫──╫─┤M├──────\n",
       "«           ░  ║  ║ └╥┘┌─┐   \n",
       "«q_3: ──────░──╫──╫──╫─┤M├───\n",
       "«     ┌───┐ ░  ║  ║  ║ └╥┘┌─┐\n",
       "«q_4: ┤ H ├─░──╫──╫──╫──╫─┤M├\n",
       "«     └───┘ ░  ║  ║  ║  ║ └╥┘\n",
       "«q_5: ──────░──╫──╫──╫──╫──╫─\n",
       "«           ░  ║  ║  ║  ║  ║ \n",
       "«c: 5/═════════╩══╩══╩══╩══╩═\n",
       "«              0  1  2  3  4 "
      ]
     },
     "execution_count": 15,
     "metadata": {},
     "output_type": "execute_result"
    }
   ],
   "source": [
    "# Create and set up circuit\n",
    "qpe3 = QuantumCircuit(6, 5)\n",
    "\n",
    "# Apply H-Gates to counting qubits:\n",
    "for qubit in range(5):\n",
    "    qpe3.h(qubit)\n",
    "\n",
    "# Prepare our eigenstate |psi>:\n",
    "qpe3.x(5)\n",
    "\n",
    "# Do the controlled-U operations:\n",
    "angle = 2*math.pi/3\n",
    "repetitions = 1\n",
    "for counting_qubit in range(5):\n",
    "    for i in range(repetitions):\n",
    "        qpe3.cp(angle, counting_qubit, 5);\n",
    "    repetitions *= 2\n",
    "\n",
    "# Do the inverse QFT:\n",
    "qft_dagger(qpe3, 5)\n",
    "\n",
    "# Measure of course!\n",
    "qpe3.barrier()\n",
    "for n in range(5):\n",
    "    qpe3.measure(n,n)\n",
    "\n",
    "qpe3.draw()"
   ]
  },
  {
   "cell_type": "code",
   "execution_count": 16,
   "metadata": {},
   "outputs": [
    {
     "data": {
      "image/png": "[encoded data removed]",
      "text/plain": [
       "<Figure size 504x360 with 1 Axes>"
      ]
     },
     "execution_count": 16,
     "metadata": {},
     "output_type": "execute_result"
    }
   ],
   "source": [
    "# Let's see the results!\n",
    "qasm_sim = Aer.get_backend('qasm_simulator')\n",
    "shots = 4096\n",
    "t_qpe3 = transpile(qpe3, qasm_sim)\n",
    "qobj = assemble(t_qpe3, shots=shots)\n",
    "results = qasm_sim.run(qobj).result()\n",
    "answer = results.get_counts()\n",
    "\n",
    "plot_histogram(answer)"
   ]
  },
  {
   "cell_type": "markdown",
   "metadata": {},
   "source": [
    "The two most likely measurements are now `01011` (decimal 11) and `01010` (decimal 10). Measuring these results would tell us $\\theta$ is:\n",
    "\n",
    "$$\n",
    "\\theta = \\frac{11}{2^5} = 0.344,\\;\\text{  or  }\\;\\; \\theta = \\frac{10}{2^5} = 0.313\n",
    "$$\n",
    "\n",
    "These two results differ from $\\frac{1}{3}$ by 3% and 6% respectively. A much better precision!"
   ]
  },
  {
   "cell_type": "markdown",
   "metadata": {},
   "source": [
    "# Demo 2: Shor's Algorithm"
   ]
  },
  {
   "cell_type": "markdown",
   "metadata": {},
   "source": [
    "Shor’s algorithm is famous for factoring integers in polynomial time. Since the best-known classical algorithm requires superpolynomial time to factor the product of two primes, the widely used cryptosystem, RSA, relies on factoring being impossible for large enough integers.\n",
    "\n",
    "Since a factoring problem can be turned into an order-finding problem in polynomial time, an efficient order-finding algorithm can be used to factor integers efficiently too. For now its enough to show that if we can compute the order of $a^x\\bmod N$ efficiently, then we can also efficiently factor. Since order-finding is a worthy problem in its own right, we will first solve this, then discuss how this can be used to factor."
   ]
  },
  {
   "cell_type": "code",
   "execution_count": 19,
   "metadata": {},
   "outputs": [],
   "source": [
    "import matplotlib.pyplot as plt\n",
    "import numpy as np\n",
    "from qiskit import QuantumCircuit, Aer, transpile, assemble\n",
    "from qiskit.visualization import plot_histogram\n",
    "from math import gcd\n",
    "from numpy.random import randint\n",
    "import pandas as pd\n",
    "from fractions import Fraction"
   ]
  },
  {
   "cell_type": "markdown",
   "metadata": {},
   "source": [
    "## Order-Finding\n",
    "\n",
    "The order $r$ is the smallest (non-zero) integer such that:\n",
    "\n",
    "$$a^r \\bmod N = 1 $$ \n",
    "\n",
    "Shor’s solution was to use quantum phase estimation on the unitary operator:\n",
    "\n",
    "$$ U|y\\rangle \\equiv |ay \\bmod N \\rangle $$\n",
    "\n",
    "To see how this is helpful, let’s work out what an eigenstate of U might look like. If we started in the state $|1\\rangle$, we can see that each successive application of U will multiply the state of our register by $a \\pmod N$, and after $r$ applications we will arrive at the state $|1\\rangle$ again. For example with $a = 3$ and $N = 35$:\n",
    "\n",
    "$$\\begin{aligned}\n",
    "U|1\\rangle &= |3\\rangle & \\\\\n",
    "U^2|1\\rangle &= |9\\rangle \\\\\n",
    "U^3|1\\rangle &= |27\\rangle \\\\\n",
    "& \\vdots \\\\\n",
    "U^{(r-1)}|1\\rangle &= |12\\rangle \\\\\n",
    "U^r|1\\rangle &= |1\\rangle \n",
    "\\end{aligned}$$"
   ]
  },
  {
   "cell_type": "markdown",
   "metadata": {},
   "source": [
    "In this example we will solve the period finding problem for $a=7$ and $N=15$. We provide the circuits for $U$ where:\n",
    "\n",
    "$$U|y\\rangle = |ay\\bmod 15\\rangle $$\n",
    "\n",
    "without explanation. To create $U^x$, we will simply repeat the circuit $x$ times. The function `c_amod15` returns the controlled-U gate for `a`, repeated `power` times.\n",
    "\n",
    "You can read qiskit textbook for more details on modular exponentiation. "
   ]
  },
  {
   "cell_type": "code",
   "execution_count": 20,
   "metadata": {},
   "outputs": [],
   "source": [
    "def c_amod15(a, power):\n",
    "    \"\"\"Controlled multiplication by a mod 15\"\"\"\n",
    "    if a not in [2,7,8,11,13]:\n",
    "        raise ValueError(\"'a' must be 2,7,8,11 or 13\")\n",
    "    U = QuantumCircuit(4)        \n",
    "    for iteration in range(power):\n",
    "        if a in [2,13]:\n",
    "            U.swap(0,1)\n",
    "            U.swap(1,2)\n",
    "            U.swap(2,3)\n",
    "        if a in [7,8]:\n",
    "            U.swap(2,3)\n",
    "            U.swap(1,2)\n",
    "            U.swap(0,1)\n",
    "        if a == 11:\n",
    "            U.swap(1,3)\n",
    "            U.swap(0,2)\n",
    "        if a in [7,11,13]:\n",
    "            for q in range(4):\n",
    "                U.x(q)\n",
    "    U = U.to_gate()\n",
    "    U.name = \"%i^%i mod 15\" % (a, power)\n",
    "    c_U = U.control()\n",
    "    return c_U"
   ]
  },
  {
   "cell_type": "markdown",
   "metadata": {},
   "source": [
    "We will use 8 counting qubits:"
   ]
  },
  {
   "cell_type": "code",
   "execution_count": 22,
   "metadata": {},
   "outputs": [],
   "source": [
    "# Specify variables\n",
    "n_count = 8  # number of counting qubits\n",
    "a = 7"
   ]
  },
  {
   "cell_type": "markdown",
   "metadata": {},
   "source": [
    "We also import the circuit for the QFT:"
   ]
  },
  {
   "cell_type": "code",
   "execution_count": 23,
   "metadata": {},
   "outputs": [],
   "source": [
    "def qft_dagger(n):\n",
    "    \"\"\"n-qubit QFTdagger the first n qubits in circ\"\"\"\n",
    "    qc = QuantumCircuit(n)\n",
    "    # Don't forget the Swaps!\n",
    "    for qubit in range(n//2):\n",
    "        qc.swap(qubit, n-qubit-1)\n",
    "    for j in range(n):\n",
    "        for m in range(j):\n",
    "            qc.cp(-np.pi/float(2**(j-m)), m, j)\n",
    "        qc.h(j)\n",
    "    qc.name = \"QFT†\"\n",
    "    return qc"
   ]
  },
  {
   "cell_type": "markdown",
   "metadata": {},
   "source": [
    "With these building blocks we can easily construct the circuit for Shor's algorithm:"
   ]
  },
  {
   "cell_type": "code",
   "execution_count": 24,
   "metadata": {},
   "outputs": [
    {
     "data": {
      "text/html": [
       "<pre style=\"word-wrap: normal;white-space: pre;background: #fff0;line-height: 1.1;font-family: &quot;Courier New&quot;,Courier,monospace\">      ┌───┐                                                                                                                             ┌───────┐┌─┐                     \n",
       " q_0: ┤ H ├───────■─────────────────────────────────────────────────────────────────────────────────────────────────────────────────────┤0      ├┤M├─────────────────────\n",
       "      ├───┤       │                                                                                                                     │       │└╥┘┌─┐                  \n",
       " q_1: ┤ H ├───────┼──────────────■──────────────────────────────────────────────────────────────────────────────────────────────────────┤1      ├─╫─┤M├──────────────────\n",
       "      ├───┤       │              │                                                                                                      │       │ ║ └╥┘┌─┐               \n",
       " q_2: ┤ H ├───────┼──────────────┼──────────────■───────────────────────────────────────────────────────────────────────────────────────┤2      ├─╫──╫─┤M├───────────────\n",
       "      ├───┤       │              │              │                                                                                       │       │ ║  ║ └╥┘┌─┐            \n",
       " q_3: ┤ H ├───────┼──────────────┼──────────────┼──────────────■────────────────────────────────────────────────────────────────────────┤3      ├─╫──╫──╫─┤M├────────────\n",
       "      ├───┤       │              │              │              │                                                                        │  QFT† │ ║  ║  ║ └╥┘┌─┐         \n",
       " q_4: ┤ H ├───────┼──────────────┼──────────────┼──────────────┼──────────────■─────────────────────────────────────────────────────────┤4      ├─╫──╫──╫──╫─┤M├─────────\n",
       "      ├───┤       │              │              │              │              │                                                         │       │ ║  ║  ║  ║ └╥┘┌─┐      \n",
       " q_5: ┤ H ├───────┼──────────────┼──────────────┼──────────────┼──────────────┼───────────────■─────────────────────────────────────────┤5      ├─╫──╫──╫──╫──╫─┤M├──────\n",
       "      ├───┤       │              │              │              │              │               │                                         │       │ ║  ║  ║  ║  ║ └╥┘┌─┐   \n",
       " q_6: ┤ H ├───────┼──────────────┼──────────────┼──────────────┼──────────────┼───────────────┼───────────────■─────────────────────────┤6      ├─╫──╫──╫──╫──╫──╫─┤M├───\n",
       "      ├───┤       │              │              │              │              │               │               │                         │       │ ║  ║  ║  ║  ║  ║ └╥┘┌─┐\n",
       " q_7: ┤ H ├───────┼──────────────┼──────────────┼──────────────┼──────────────┼───────────────┼───────────────┼────────────────■────────┤7      ├─╫──╫──╫──╫──╫──╫──╫─┤M├\n",
       "      └───┘┌──────┴──────┐┌──────┴──────┐┌──────┴──────┐┌──────┴──────┐┌──────┴───────┐┌──────┴───────┐┌──────┴───────┐┌───────┴───────┐└───────┘ ║  ║  ║  ║  ║  ║  ║ └╥┘\n",
       " q_8: ─────┤0            ├┤0            ├┤0            ├┤0            ├┤0             ├┤0             ├┤0             ├┤0              ├──────────╫──╫──╫──╫──╫──╫──╫──╫─\n",
       "           │             ││             ││             ││             ││              ││              ││              ││               │          ║  ║  ║  ║  ║  ║  ║  ║ \n",
       " q_9: ─────┤1            ├┤1            ├┤1            ├┤1            ├┤1             ├┤1             ├┤1             ├┤1              ├──────────╫──╫──╫──╫──╫──╫──╫──╫─\n",
       "           │  7^1 mod 15 ││  7^2 mod 15 ││  7^4 mod 15 ││  7^8 mod 15 ││  7^16 mod 15 ││  7^32 mod 15 ││  7^64 mod 15 ││  7^128 mod 15 │          ║  ║  ║  ║  ║  ║  ║  ║ \n",
       "q_10: ─────┤2            ├┤2            ├┤2            ├┤2            ├┤2             ├┤2             ├┤2             ├┤2              ├──────────╫──╫──╫──╫──╫──╫──╫──╫─\n",
       "      ┌───┐│             ││             ││             ││             ││              ││              ││              ││               │          ║  ║  ║  ║  ║  ║  ║  ║ \n",
       "q_11: ┤ X ├┤3            ├┤3            ├┤3            ├┤3            ├┤3             ├┤3             ├┤3             ├┤3              ├──────────╫──╫──╫──╫──╫──╫──╫──╫─\n",
       "      └───┘└─────────────┘└─────────────┘└─────────────┘└─────────────┘└──────────────┘└──────────────┘└──────────────┘└───────────────┘          ║  ║  ║  ║  ║  ║  ║  ║ \n",
       " c: 8/════════════════════════════════════════════════════════════════════════════════════════════════════════════════════════════════════════════╩══╩══╩══╩══╩══╩══╩══╩═\n",
       "                                                                                                                                                  0  1  2  3  4  5  6  7 </pre>"
      ],
      "text/plain": [
       "      ┌───┐                                                                                                                             ┌───────┐┌─┐                     \n",
       " q_0: ┤ H ├───────■─────────────────────────────────────────────────────────────────────────────────────────────────────────────────────┤0      ├┤M├─────────────────────\n",
       "      ├───┤       │                                                                                                                     │       │└╥┘┌─┐                  \n",
       " q_1: ┤ H ├───────┼──────────────■──────────────────────────────────────────────────────────────────────────────────────────────────────┤1      ├─╫─┤M├──────────────────\n",
       "      ├───┤       │              │                                                                                                      │       │ ║ └╥┘┌─┐               \n",
       " q_2: ┤ H ├───────┼──────────────┼──────────────■───────────────────────────────────────────────────────────────────────────────────────┤2      ├─╫──╫─┤M├───────────────\n",
       "      ├───┤       │              │              │                                                                                       │       │ ║  ║ └╥┘┌─┐            \n",
       " q_3: ┤ H ├───────┼──────────────┼──────────────┼──────────────■────────────────────────────────────────────────────────────────────────┤3      ├─╫──╫──╫─┤M├────────────\n",
       "      ├───┤       │              │              │              │                                                                        │  QFT† │ ║  ║  ║ └╥┘┌─┐         \n",
       " q_4: ┤ H ├───────┼──────────────┼──────────────┼──────────────┼──────────────■─────────────────────────────────────────────────────────┤4      ├─╫──╫──╫──╫─┤M├─────────\n",
       "      ├───┤       │              │              │              │              │                                                         │       │ ║  ║  ║  ║ └╥┘┌─┐      \n",
       " q_5: ┤ H ├───────┼──────────────┼──────────────┼──────────────┼──────────────┼───────────────■─────────────────────────────────────────┤5      ├─╫──╫──╫──╫──╫─┤M├──────\n",
       "      ├───┤       │              │              │              │              │               │                                         │       │ ║  ║  ║  ║  ║ └╥┘┌─┐   \n",
       " q_6: ┤ H ├───────┼──────────────┼──────────────┼──────────────┼──────────────┼───────────────┼───────────────■─────────────────────────┤6      ├─╫──╫──╫──╫──╫──╫─┤M├───\n",
       "      ├───┤       │              │              │              │              │               │               │                         │       │ ║  ║  ║  ║  ║  ║ └╥┘┌─┐\n",
       " q_7: ┤ H ├───────┼──────────────┼──────────────┼──────────────┼──────────────┼───────────────┼───────────────┼────────────────■────────┤7      ├─╫──╫──╫──╫──╫──╫──╫─┤M├\n",
       "      └───┘┌──────┴──────┐┌──────┴──────┐┌──────┴──────┐┌──────┴──────┐┌──────┴───────┐┌──────┴───────┐┌──────┴───────┐┌───────┴───────┐└───────┘ ║  ║  ║  ║  ║  ║  ║ └╥┘\n",
       " q_8: ─────┤0            ├┤0            ├┤0            ├┤0            ├┤0             ├┤0             ├┤0             ├┤0              ├──────────╫──╫──╫──╫──╫──╫──╫──╫─\n",
       "           │             ││             ││             ││             ││              ││              ││              ││               │          ║  ║  ║  ║  ║  ║  ║  ║ \n",
       " q_9: ─────┤1            ├┤1            ├┤1            ├┤1            ├┤1             ├┤1             ├┤1             ├┤1              ├──────────╫──╫──╫──╫──╫──╫──╫──╫─\n",
       "           │  7^1 mod 15 ││  7^2 mod 15 ││  7^4 mod 15 ││  7^8 mod 15 ││  7^16 mod 15 ││  7^32 mod 15 ││  7^64 mod 15 ││  7^128 mod 15 │          ║  ║  ║  ║  ║  ║  ║  ║ \n",
       "q_10: ─────┤2            ├┤2            ├┤2            ├┤2            ├┤2             ├┤2             ├┤2             ├┤2              ├──────────╫──╫──╫──╫──╫──╫──╫──╫─\n",
       "      ┌───┐│             ││             ││             ││             ││              ││              ││              ││               │          ║  ║  ║  ║  ║  ║  ║  ║ \n",
       "q_11: ┤ X ├┤3            ├┤3            ├┤3            ├┤3            ├┤3             ├┤3             ├┤3             ├┤3              ├──────────╫──╫──╫──╫──╫──╫──╫──╫─\n",
       "      └───┘└─────────────┘└─────────────┘└─────────────┘└─────────────┘└──────────────┘└──────────────┘└──────────────┘└───────────────┘          ║  ║  ║  ║  ║  ║  ║  ║ \n",
       " c: 8/════════════════════════════════════════════════════════════════════════════════════════════════════════════════════════════════════════════╩══╩══╩══╩══╩══╩══╩══╩═\n",
       "                                                                                                                                                  0  1  2  3  4  5  6  7 "
      ]
     },
     "execution_count": 24,
     "metadata": {},
     "output_type": "execute_result"
    }
   ],
   "source": [
    "# Create QuantumCircuit with n_count counting qubits\n",
    "# plus 4 qubits for U to act on\n",
    "qc = QuantumCircuit(n_count + 4, n_count)\n",
    "\n",
    "# Initialise counting qubits\n",
    "# in state |+>\n",
    "for q in range(n_count):\n",
    "    qc.h(q)\n",
    "    \n",
    "# And auxiliary register in state |1>\n",
    "qc.x(3+n_count)\n",
    "\n",
    "# Do controlled-U operations\n",
    "for q in range(n_count):\n",
    "    qc.append(c_amod15(a, 2**q), \n",
    "             [q] + [i+n_count for i in range(4)])\n",
    "\n",
    "# Do inverse-QFT\n",
    "qc.append(qft_dagger(n_count), range(n_count))\n",
    "\n",
    "# Measure circuit\n",
    "qc.measure(range(n_count), range(n_count))\n",
    "qc.draw(fold=-1)  # -1 means 'do not fold' "
   ]
  },
  {
   "cell_type": "markdown",
   "metadata": {},
   "source": [
    "Let's see what results we measure:"
   ]
  },
  {
   "cell_type": "code",
   "execution_count": 25,
   "metadata": {},
   "outputs": [
    {
     "data": {
      "image/png": "[encoded data removed]",
      "text/plain": [
       "<Figure size 504x360 with 1 Axes>"
      ]
     },
     "execution_count": 25,
     "metadata": {},
     "output_type": "execute_result"
    }
   ],
   "source": [
    "qasm_sim = Aer.get_backend('qasm_simulator')\n",
    "t_qc = transpile(qc, qasm_sim)\n",
    "qobj = assemble(t_qc)\n",
    "results = qasm_sim.run(qobj).result()\n",
    "counts = results.get_counts()\n",
    "plot_histogram(counts)"
   ]
  },
  {
   "cell_type": "markdown",
   "metadata": {},
   "source": [
    "Since we have 3 qubits, these results correspond to measured phases of:"
   ]
  },
  {
   "cell_type": "code",
   "execution_count": 26,
   "metadata": {},
   "outputs": [
    {
     "name": "stdout",
     "output_type": "stream",
     "text": [
      "            Register Output           Phase\n",
      "0  00000000(bin) =   0(dec)    0/256 = 0.00\n",
      "1  01000000(bin) =  64(dec)   64/256 = 0.25\n",
      "2  10000000(bin) = 128(dec)  128/256 = 0.50\n",
      "3  11000000(bin) = 192(dec)  192/256 = 0.75\n"
     ]
    }
   ],
   "source": [
    "rows, measured_phases = [], []\n",
    "for output in counts:\n",
    "    decimal = int(output, 2)  # Convert (base 2) string to decimal\n",
    "    phase = decimal/(2**n_count)  # Find corresponding eigenvalue\n",
    "    measured_phases.append(phase)\n",
    "    # Add these values to the rows in our table:\n",
    "    rows.append([f\"{output}(bin) = {decimal:>3}(dec)\", \n",
    "                 f\"{decimal}/{2**n_count} = {phase:.2f}\"])\n",
    "# Print the rows in a table\n",
    "headers=[\"Register Output\", \"Phase\"]\n",
    "df = pd.DataFrame(rows, columns=headers)\n",
    "print(df)"
   ]
  },
  {
   "cell_type": "markdown",
   "metadata": {},
   "source": [
    "We can now use the continued fractions algorithm to attempt to find $s$ and $r$. Python has this functionality built in: We can use the `fractions` module to turn a float into a `Fraction` object. Since the order (r) must be less than N, we will set the maximum denominator to be `15`:"
   ]
  },
  {
   "cell_type": "code",
   "execution_count": 27,
   "metadata": {},
   "outputs": [
    {
     "name": "stdout",
     "output_type": "stream",
     "text": [
      "   Phase Fraction  Guess for r\n",
      "0   0.00      0/1            1\n",
      "1   0.25      1/4            4\n",
      "2   0.50      1/2            2\n",
      "3   0.75      3/4            4\n"
     ]
    }
   ],
   "source": [
    "rows = []\n",
    "for phase in measured_phases:\n",
    "    frac = Fraction(phase).limit_denominator(15)\n",
    "    rows.append([phase, f\"{frac.numerator}/{frac.denominator}\", frac.denominator])\n",
    "# Print as a table\n",
    "headers=[\"Phase\", \"Fraction\", \"Guess for r\"]\n",
    "df = pd.DataFrame(rows, columns=headers)\n",
    "print(df)"
   ]
  },
  {
   "cell_type": "markdown",
   "metadata": {},
   "source": [
    "We can see that two of the measured eigenvalues provided us with the correct result: $r=4$, and we can see that Shor’s algorithm has a chance of failing. These bad results are because $s = 0$, or because $s$ and $r$ are not coprime and instead of $r$ we are given a factor of $r$. The easiest solution to this is to simply repeat the experiment until we get a satisfying result for $r$."
   ]
  },
  {
   "cell_type": "code",
   "execution_count": null,
   "metadata": {},
   "outputs": [],
   "source": []
  }
 ],
 "metadata": {
  "kernelspec": {
   "display_name": "Python 3",
   "language": "python",
   "name": "python3"
  },
  "language_info": {
   "codemirror_mode": {
    "name": "ipython",
    "version": 3
   },
   "file_extension": ".py",
   "mimetype": "text/x-python",
   "name": "python",
   "nbconvert_exporter": "python",
   "pygments_lexer": "ipython3",
   "version": "3.9.0"
  }
 },
 "nbformat": 4,
 "nbformat_minor": 4
}
